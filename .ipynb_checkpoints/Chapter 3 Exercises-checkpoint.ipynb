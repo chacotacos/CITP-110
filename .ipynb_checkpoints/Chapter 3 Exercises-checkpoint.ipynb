{
 "cells": [
  {
   "cell_type": "markdown",
   "id": "780b23f3",
   "metadata": {},
   "source": [
    "# Chapter 3 Exercises\n",
    "\n",
    "Algorithm Workbench (Two Questions)\n",
    "Question 4\n",
    "Question 5\n",
    "Programming Exercises (Four Questions)\n",
    "Question 1\n",
    "Question 5\n",
    "Choose any TWO of the following  Questions:\n",
    "Question 15\n",
    "Question 16\n",
    "Question 17\n",
    "Question 18"
   ]
  },
  {
   "cell_type": "markdown",
   "id": "5ea6e14b",
   "metadata": {},
   "source": [
    "## Algorithim Workbench "
   ]
  },
  {
   "cell_type": "markdown",
   "id": "e280414a",
   "metadata": {},
   "source": [
    "### Question 4 \n",
    "The following code contains several nested  statements. Unfortunately, it was written without proper alignment and indentation. Rewrite the code and use the proper conventions of alignment and indentation."
   ]
  },
  {
   "cell_type": "code",
   "execution_count": 1,
   "id": "a0020e18",
   "metadata": {},
   "outputs": [
    {
     "ename": "SyntaxError",
     "evalue": "expected ':' (265047976.py, line 3)",
     "output_type": "error",
     "traceback": [
      "\u001b[0;36m  Cell \u001b[0;32mIn[1], line 3\u001b[0;36m\u001b[0m\n\u001b[0;31m    if score >= A-score\u001b[0m\n\u001b[0m                       ^\u001b[0m\n\u001b[0;31mSyntaxError\u001b[0m\u001b[0;31m:\u001b[0m expected ':'\n"
     ]
    }
   ],
   "source": [
    "# rewriting the code to follow proper alignment\n",
    "\n",
    "if score >= A-score\n",
    "    print('Your grade is A.')\n",
    "else:\n",
    "    if score >= B_score\n",
    "        print('Your grade is B.')\n",
    "    else:\n",
    "        if score >= C_score\n",
    "            print('Your grade is C.')\n",
    "        else:\n",
    "            if score >= D_score\n",
    "                print('Your grade is D.')\n",
    "            else:\n",
    "                print('Your grade is F.')\n",
    "                \n",
    "    "
   ]
  },
  {
   "cell_type": "markdown",
   "id": "5cf3f0ab",
   "metadata": {},
   "source": [
    "### Question 5\n",
    "Write nested decision structures that perform the following: If amount1 is greater than 10 and amount2 is less than 100, display the greater of amount1 and amount2.  "
   ]
  },
  {
   "cell_type": "code",
   "execution_count": 3,
   "id": "6f35a7db",
   "metadata": {},
   "outputs": [
    {
     "name": "stdout",
     "output_type": "stream",
     "text": [
      "Second amount is greater\n"
     ]
    }
   ],
   "source": [
    "# Get the variables\n",
    "amount1=15\n",
    "amount2=75\n",
    "\n",
    "# Do the maths\n",
    "if amount1 > 10 and amount2 < 100:\n",
    "    if amount1 > amount2:\n",
    "        print('First amount is greater')\n",
    "    elif amount2 > amount1:\n",
    "        print('Second amount is greater')\n",
    "else:\n",
    "    print('Amounts are not in range. Try again.')"
   ]
  },
  {
   "cell_type": "markdown",
   "id": "82cf5021",
   "metadata": {},
   "source": [
    "It took me a few tries to make sure all of colons and indents were correct. I keep getting errors. DEBUG time\n",
    "setting the variables as constants works. So, I am going with that for now."
   ]
  },
  {
   "cell_type": "markdown",
   "id": "a7b76afa",
   "metadata": {},
   "source": [
    "## Programming Exercises"
   ]
  },
  {
   "cell_type": "markdown",
   "id": "0ec8abef",
   "metadata": {},
   "source": [
    "### Question 1"
   ]
  },
  {
   "cell_type": "code",
   "execution_count": 9,
   "id": "4f323340",
   "metadata": {},
   "outputs": [
    {
     "name": "stdout",
     "output_type": "stream",
     "text": [
      "Enter a number between 1 and 7: 4\n",
      "Thursday\n"
     ]
    }
   ],
   "source": [
    "# Ask the user to input a number between 1 and 7\n",
    "num1 = int(input(\"Enter a number between 1 and 7: \"))\n",
    "\n",
    "if 1 <= num1 <= 7:\n",
    "    if num1 == 1:\n",
    "        print(\"Monday\")\n",
    "    elif num1 == 2:\n",
    "        print(\"Tuesday\")\n",
    "    elif num1 == 3:\n",
    "        print(\"Wednesday\")\n",
    "    elif num1 == 4:\n",
    "        print(\"Thursday\")\n",
    "    elif num1 == 5:\n",
    "        print(\"Friday\")\n",
    "    elif num1 == 6:\n",
    "        print(\"Saturday\")\n",
    "    else:\n",
    "        print(\"Sunday\")"
   ]
  },
  {
   "cell_type": "markdown",
   "id": "c3840111",
   "metadata": {},
   "source": [
    "I can't find the example I was looking for.\n",
    "Found it. Made it work!"
   ]
  },
  {
   "cell_type": "code",
   "execution_count": null,
   "id": "52425299",
   "metadata": {},
   "outputs": [],
   "source": []
  }
 ],
 "metadata": {
  "kernelspec": {
   "display_name": "Python 3 (ipykernel)",
   "language": "python",
   "name": "python3"
  },
  "language_info": {
   "codemirror_mode": {
    "name": "ipython",
    "version": 3
   },
   "file_extension": ".py",
   "mimetype": "text/x-python",
   "name": "python",
   "nbconvert_exporter": "python",
   "pygments_lexer": "ipython3",
   "version": "3.11.5"
  }
 },
 "nbformat": 4,
 "nbformat_minor": 5
}
