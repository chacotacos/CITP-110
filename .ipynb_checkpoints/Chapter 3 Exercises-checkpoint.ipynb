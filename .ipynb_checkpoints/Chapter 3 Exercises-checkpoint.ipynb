{
 "cells": [
  {
   "cell_type": "markdown",
   "id": "a942c0a0",
   "metadata": {},
   "source": [
    "# Chapter 3 Exercises\n",
    "\n",
    "Algorithm Workbench (Two Questions)\n",
    "Question 4\n",
    "Question 5\n",
    "Programming Exercises (Four Questions)\n",
    "Question 1\n",
    "Question 5\n",
    "Choose any TWO of the following  Questions:\n",
    "Question 15\n",
    "Question 16\n",
    "Question 17\n",
    "Question 18"
   ]
  },
  {
   "cell_type": "markdown",
   "id": "88926896",
   "metadata": {},
   "source": [
    "## Algorithim Workbench "
   ]
  },
  {
   "cell_type": "markdown",
   "id": "2bac2ea6",
   "metadata": {},
   "source": [
    "### Question 4 \n",
    "The following code contains several nested  statements. Unfortunately, it was written without proper alignment and indentation. Rewrite the code and use the proper conventions of alignment and indentation."
   ]
  },
  {
   "cell_type": "code",
   "execution_count": 1,
   "id": "63c124a7",
   "metadata": {},
   "outputs": [
    {
     "ename": "SyntaxError",
     "evalue": "expected ':' (265047976.py, line 3)",
     "output_type": "error",
     "traceback": [
      "\u001b[0;36m  Cell \u001b[0;32mIn[1], line 3\u001b[0;36m\u001b[0m\n\u001b[0;31m    if score >= A-score\u001b[0m\n\u001b[0m                       ^\u001b[0m\n\u001b[0;31mSyntaxError\u001b[0m\u001b[0;31m:\u001b[0m expected ':'\n"
     ]
    }
   ],
   "source": [
    "# rewriting the code to follow proper alignment\n",
    "\n",
    "if score >= A-score\n",
    "    print('Your grade is A.')\n",
    "else:\n",
    "    if score >= B_score\n",
    "        print('Your grade is B.')\n",
    "    else:\n",
    "        if score >= C_score\n",
    "            print('Your grade is C.')\n",
    "        else:\n",
    "            if score >= D_score\n",
    "                print('Your grade is D.')\n",
    "            else:\n",
    "                print('Your grade is F.')\n",
    "                \n",
    "    "
   ]
  },
  {
   "cell_type": "markdown",
   "id": "3cb62451",
   "metadata": {},
   "source": [
    "### Question 5\n",
    "Write nested decision structures that perform the following: If amount1 is greater than 10 and amount2 is less than 100, display the greater of amount1 and amount2.  "
   ]
  },
  {
   "cell_type": "code",
   "execution_count": null,
   "id": "37fab2be",
   "metadata": {},
   "outputs": [],
   "source": [
    "# Get the variables\n",
    "amount1=input('Enter the first amount: ')\n",
    "amount2=input('Enter the second amount: ')\n",
    "\n",
    "# Do the maths"
   ]
  }
 ],
 "metadata": {
  "kernelspec": {
   "display_name": "Python 3 (ipykernel)",
   "language": "python",
   "name": "python3"
  },
  "language_info": {
   "codemirror_mode": {
    "name": "ipython",
    "version": 3
   },
   "file_extension": ".py",
   "mimetype": "text/x-python",
   "name": "python",
   "nbconvert_exporter": "python",
   "pygments_lexer": "ipython3",
   "version": "3.11.5"
  }
 },
 "nbformat": 4,
 "nbformat_minor": 5
}
