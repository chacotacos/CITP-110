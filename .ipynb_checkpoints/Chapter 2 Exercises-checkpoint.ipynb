{
 "cells": [
  {
   "cell_type": "markdown",
   "id": "6eb83990",
   "metadata": {},
   "source": [
    "# Chapter 2 Exercises"
   ]
  },
  {
   "cell_type": "markdown",
   "id": "f2184d59",
   "metadata": {},
   "source": [
    "## Algorithim Workbench\n",
    "\n",
    "Write Python code that prompts the user to enter his or her favorite color and assigns the user’s input to a variable named color.  \n",
    "From 2.6 variable = input(prompt)\n",
    "\n",
    "Not sure if this will work. "
   ]
  },
  {
   "cell_type": "code",
   "execution_count": null,
   "id": "3c3976fe",
   "metadata": {},
   "outputs": [],
   "source": [
    "color = input('What is your favorite color? ')"
   ]
  }
 ],
 "metadata": {
  "kernelspec": {
   "display_name": "Python 3 (ipykernel)",
   "language": "python",
   "name": "python3"
  },
  "language_info": {
   "codemirror_mode": {
    "name": "ipython",
    "version": 3
   },
   "file_extension": ".py",
   "mimetype": "text/x-python",
   "name": "python",
   "nbconvert_exporter": "python",
   "pygments_lexer": "ipython3",
   "version": "3.11.5"
  }
 },
 "nbformat": 4,
 "nbformat_minor": 5
}
