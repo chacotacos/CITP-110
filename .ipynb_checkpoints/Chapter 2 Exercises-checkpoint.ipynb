{
 "cells": [
  {
   "cell_type": "markdown",
   "id": "5e9f975a",
   "metadata": {},
   "source": [
    "# Chapter 2 Exercises"
   ]
  },
  {
   "cell_type": "markdown",
   "id": "bf9858ff",
   "metadata": {},
   "source": [
    "## Algorithim Workbench\n",
    "\n",
    "Write Python code that prompts the user to enter his or her favorite color and assigns the user’s input to a variable named color.  \n",
    "From 2.6 variable = input(prompt)\n",
    "\n",
    "Not sure if this will work. "
   ]
  },
  {
   "cell_type": "code",
   "execution_count": 2,
   "id": "f75f0534",
   "metadata": {},
   "outputs": [
    {
     "name": "stdout",
     "output_type": "stream",
     "text": [
      "What is your favorite color? \n"
     ]
    }
   ],
   "source": [
    "color = input('What is your favorite color? ')"
   ]
  },
  {
   "cell_type": "markdown",
   "id": "6b4d7873",
   "metadata": {},
   "source": [
    "It actually worked."
   ]
  },
  {
   "cell_type": "markdown",
   "id": "5d6debc9",
   "metadata": {},
   "source": [
    "## Programming Exercise 1 \"Personal Information\"\n",
    "\n",
    "The problem asks \"Write a program that displays the following information for a student:  Name, Address with city, state, and ZIP, Telephone number, College major\n",
    "\n",
    "I'm sure that fstrings is what I need to do\n"
   ]
  },
  {
   "cell_type": "code",
   "execution_count": 16,
   "id": "04c91985",
   "metadata": {},
   "outputs": [
    {
     "name": "stdout",
     "output_type": "stream",
     "text": [
      "Hello Cameron Calero, address: 2045 Heliport Loop, Riverfolk, IN 43286, Tel: 812-555-1212, Major: Cyber Security\n"
     ]
    }
   ],
   "source": [
    "name = 'Cameron Calero'\n",
    "address = '2045 Heliport Loop, Riverfolk, IN 43286'\n",
    "tel = '812-555-1212'\n",
    "major = 'Cyber Security'\n",
    "print(f'Hello {name}, ' +\n",
    "      f'address: {address}, ' +\n",
    "      f'Tel: {tel}, ' +\n",
    "      f'Major: {major}')\n"
   ]
  },
  {
   "cell_type": "markdown",
   "id": "321b0a6a",
   "metadata": {},
   "source": [
    "It took some fiddling with formatting. But using 2.10 I was able to work through."
   ]
  },
  {
   "cell_type": "markdown",
   "id": "661da85e",
   "metadata": {},
   "source": [
    "## Planting Grapevines"
   ]
  },
  {
   "cell_type": "markdown",
   "id": "94c8d48b",
   "metadata": {},
   "source": [
    "V = R - 2E / S\n",
    "V is the number of grapevines that will fit in the row.\n",
    "R is the length of the row, in feet.\n",
    "E is the amount of space, in feet, used by an end-post assembly.\n",
    "S is the space between vines, in feet.\n"
   ]
  },
  {
   "cell_type": "code",
   "execution_count": null,
   "id": "189eb030",
   "metadata": {},
   "outputs": [],
   "source": []
  }
 ],
 "metadata": {
  "kernelspec": {
   "display_name": "Python 3 (ipykernel)",
   "language": "python",
   "name": "python3"
  },
  "language_info": {
   "codemirror_mode": {
    "name": "ipython",
    "version": 3
   },
   "file_extension": ".py",
   "mimetype": "text/x-python",
   "name": "python",
   "nbconvert_exporter": "python",
   "pygments_lexer": "ipython3",
   "version": "3.11.5"
  }
 },
 "nbformat": 4,
 "nbformat_minor": 5
}
