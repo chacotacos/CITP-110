{
 "cells": [
  {
   "cell_type": "markdown",
   "id": "780b23f3",
   "metadata": {},
   "source": [
    "# Chapter 3 Exercises\n",
    "\n",
    "Algorithm Workbench (Two Questions)\n",
    "Question 4\n",
    "Question 5\n",
    "Programming Exercises (Four Questions)\n",
    "Question 1\n",
    "Question 5\n",
    "Choose any TWO of the following  Questions:\n",
    "Question 15\n",
    "Question 16\n",
    "Question 17\n",
    "Question 18"
   ]
  },
  {
   "cell_type": "markdown",
   "id": "5ea6e14b",
   "metadata": {},
   "source": [
    "## Algorithim Workbench "
   ]
  },
  {
   "cell_type": "markdown",
   "id": "e280414a",
   "metadata": {},
   "source": [
    "### Question 4 \n",
    "The following code contains several nested  statements. Unfortunately, it was written without proper alignment and indentation. Rewrite the code and use the proper conventions of alignment and indentation.\n",
    "\n",
    "This is an attempt to practice proper indentation. "
   ]
  },
  {
   "cell_type": "code",
   "execution_count": 1,
   "id": "a0020e18",
   "metadata": {},
   "outputs": [
    {
     "ename": "SyntaxError",
     "evalue": "expected ':' (265047976.py, line 3)",
     "output_type": "error",
     "traceback": [
      "\u001b[0;36m  Cell \u001b[0;32mIn[1], line 3\u001b[0;36m\u001b[0m\n\u001b[0;31m    if score >= A-score\u001b[0m\n\u001b[0m                       ^\u001b[0m\n\u001b[0;31mSyntaxError\u001b[0m\u001b[0;31m:\u001b[0m expected ':'\n"
     ]
    }
   ],
   "source": [
    "# rewriting the code to follow proper alignment\n",
    "\n",
    "if score >= A-score\n",
    "    print('Your grade is A.')\n",
    "else:\n",
    "    if score >= B_score\n",
    "        print('Your grade is B.')\n",
    "    else:\n",
    "        if score >= C_score\n",
    "            print('Your grade is C.')\n",
    "        else:\n",
    "            if score >= D_score\n",
    "                print('Your grade is D.')\n",
    "            else:\n",
    "                print('Your grade is F.')\n",
    "                \n",
    "    "
   ]
  },
  {
   "cell_type": "markdown",
   "id": "5cf3f0ab",
   "metadata": {},
   "source": [
    "### Question 5\n",
    "Write nested decision structures that perform the following: If amount1 is greater than 10 and amount2 is less than 100, display the greater of amount1 and amount2.  "
   ]
  },
  {
   "cell_type": "markdown",
   "id": "08f4ffc2",
   "metadata": {},
   "source": [
    "This code compares two amounts (amount1 and amount2) and determines which one is greater. If both amounts are within the range of 10 to 100, it prints the result.\n",
    "Otherwise, it prints a message indicating that the amounts are not in range."
   ]
  },
  {
   "cell_type": "code",
   "execution_count": 3,
   "id": "6f35a7db",
   "metadata": {},
   "outputs": [
    {
     "name": "stdout",
     "output_type": "stream",
     "text": [
      "Second amount is greater\n"
     ]
    }
   ],
   "source": [
    "# Get the variables\n",
    "amount1=15\n",
    "amount2=75\n",
    "\n",
    "# Do the maths\n",
    "if amount1 > 10 and amount2 < 100:\n",
    "    if amount1 > amount2:\n",
    "        print('First amount is greater')\n",
    "    elif amount2 > amount1:\n",
    "        print('Second amount is greater')\n",
    "else:\n",
    "    print('Amounts are not in range. Try again.')"
   ]
  },
  {
   "cell_type": "markdown",
   "id": "82cf5021",
   "metadata": {},
   "source": [
    "It took me a few tries to make sure all of colons and indents were correct. I keep getting errors. DEBUG time\n",
    "setting the variables as constants works. So, I am going with that for now."
   ]
  },
  {
   "cell_type": "markdown",
   "id": "a7b76afa",
   "metadata": {},
   "source": [
    "## Programming Exercises"
   ]
  },
  {
   "cell_type": "markdown",
   "id": "0ec8abef",
   "metadata": {},
   "source": [
    "### Question 1"
   ]
  },
  {
   "cell_type": "markdown",
   "id": "dc9aef01",
   "metadata": {},
   "source": [
    "This asks the user to input a number between 1 and 7. it will then compare the number against the day of the week. It needs aa method to validate numbers outside of 1 -7."
   ]
  },
  {
   "cell_type": "code",
   "execution_count": null,
   "id": "4f323340",
   "metadata": {},
   "outputs": [
    {
     "name": "stdout",
     "output_type": "stream",
     "text": [
      "Enter a number between 1 and 7: 4\n",
      "Thursday\n"
     ]
    }
   ],
   "source": [
    "def print_day_of_week():\n",
    "#    Asks the user to input a number between 1 and 7 and prints the corresponding day of the week.\n",
    "    \n",
    "    num1 = int(input(\"Enter a number between 1 and 7: \"))\n",
    "\n",
    "    if 1 <= num1 <= 7:\n",
    "        if num1 == 1:\n",
    "            print(\"Monday\")\n",
    "        elif num1 == 2:\n",
    "            print(\"Tuesday\")\n",
    "        elif num1 == 3:\n",
    "            print(\"Wednesday\")\n",
    "        elif num1 == 4:\n",
    "            print(\"Thursday\")\n",
    "        elif num1 == 5:\n",
    "            print(\"Friday\")\n",
    "        elif num1 == 6:\n",
    "            print(\"Saturday\")\n",
    "        else:\n",
    "            print(\"Sunday\")\n"
   ]
  },
  {
   "cell_type": "markdown",
   "id": "c3840111",
   "metadata": {},
   "source": [
    "I can't find the example I was looking for.\n",
    "Found it. Made it work!"
   ]
  },
  {
   "cell_type": "markdown",
   "id": "bb260a73",
   "metadata": {},
   "source": [
    "## Question 5"
   ]
  },
  {
   "cell_type": "markdown",
   "id": "06b93ae7",
   "metadata": {},
   "source": [
    "Write a program that asks the user to enter an object’s mass, then calculates its weight. If the object weighs more than 500 newtons, display a message indicating that it is too heavy. If the object weighs less than 100 newtons, display a message indicating that it is too light."
   ]
  },
  {
   "cell_type": "code",
   "execution_count": 17,
   "id": "fab60e42",
   "metadata": {},
   "outputs": [
    {
     "name": "stdout",
     "output_type": "stream",
     "text": [
      "Enter the mass of the object in Kilograms: 50\n",
      "the weight of the object is: 490.00000000000006 newtons\n"
     ]
    }
   ],
   "source": [
    "# ASk the user to input weight in Kilograms.\n",
    "mass = float(input(\"Enter the mass of the object in Kilograms: \"))\n",
    "\n",
    "# Calculate the weight using the formula weight = mass * 9.8\n",
    "weight = mass * 9.8\n",
    "\n",
    "# Display the weight\n",
    "print(\"the weight of the object is:\", weight, \"newtons\")\n",
    "\n",
    "# Check if the weight is too heavy or light\n",
    "if weight > 500:\n",
    "    print(\"The object is too heavy.\")\n",
    "elif weight < 100:\n",
    "    print('The object is too light.')"
   ]
  },
  {
   "cell_type": "markdown",
   "id": "85c84391",
   "metadata": {},
   "source": [
    "if / else didn't work. trying elif. worked.\n"
   ]
  },
  {
   "cell_type": "markdown",
   "id": "695c4c9f",
   "metadata": {},
   "source": [
    "# 15. February Days \n",
    "## Aka leap year love story"
   ]
  },
  {
   "cell_type": "markdown",
   "id": "61e2cb2c",
   "metadata": {},
   "source": [
    "The month of February normally has 28 days. But if it is a leap year, February has 29 days. Write a program that asks the user to enter a year. The program should then display the number of days in February that year. Use the following criteria to identify leap years: \n",
    "\n",
    "Determine whether the year is divisible by 100. If it is, then it is a leap year if and only if it is also divisible by 400. For example, 2000 is a leap year, but 2100 is not.If the year is not divisible by 100, then it is a leap year if and only if it is divisible by 4. For example, 2008 is a leap year, but 2009 is not."
   ]
  },
  {
   "cell_type": "code",
   "execution_count": 8,
   "id": "73c40d1b",
   "metadata": {},
   "outputs": [
    {
     "name": "stdout",
     "output_type": "stream",
     "text": [
      "Enter a four digit year: 1900\n"
     ]
    }
   ],
   "source": [
    "# Ask the user to input a 4 digit year\n",
    "year = int(input(\"Enter a four digit year: \"))\n",
    "\n",
    "#  This function determines if a given year is a leap year.\n",
    "#  And prints the number of days \n",
    "\n",
    "if (year % 100 == 0 and year % 400 == 0) or (year % 100 != 0 and year % 4 == 0):\n",
    "  print(f\"February {year} has 29 days.\")\n",
    "elif year % 4 != 0:\n",
    "  print(f\"February {year} has 28 days.\")"
   ]
  },
  {
   "cell_type": "markdown",
   "id": "ba2a8663",
   "metadata": {},
   "source": [
    "I can't get it to reurn a response for year 1900. "
   ]
  },
  {
   "cell_type": "markdown",
   "id": "231e3176",
   "metadata": {},
   "source": [
    "JGruber has parenthesis around his formula. Going to attempt that."
   ]
  },
  {
   "cell_type": "markdown",
   "id": "a715fca5",
   "metadata": {},
   "source": [
    "## 16. Wi-Fi Diagnostic Tree\n",
    "\n",
    "Figure 3-21 shows a simplified flowchart for troubleshooting a bad Wi-Fi connection. Use the flowchart to create a program that leads a person through the steps of fixing a bad Wi-Fi connection. Notice the program ends as soon as a solution is found to the problem."
   ]
  },
  {
   "cell_type": "code",
   "execution_count": null,
   "id": "01004457",
   "metadata": {},
   "outputs": [
    {
     "name": "stdout",
     "output_type": "stream",
     "text": [
      "Reboot the computer and try to connect.\n",
      "(Y/N) Enter Y for yes or N for no.\n"
     ]
    }
   ],
   "source": [
    "# Get input\n",
    "print(\"Reboot the computer and try to connect.\\n(Y/N) Enter Y for yes or N for no.\")\n",
    "\n",
    "user_answer = input(\"Did that fix the problem? \")\n",
    "\n",
    "# Begin decision tree\n",
    "if user_answer == \"Y\" or user_answer == \"y\" or user_answer == \"n\" or user_answer == \"N\":\n",
    "    if user_answer == \"n\" or user_answer == \"N\":\n",
    "        print(\"Reboot the router and try to connect.\")\n",
    "        user_answer = input(\"Did that fix the problem? \")\n",
    "\n",
    "        if user_answer == \"Y\" or user_answer == \"y\" or user_answer == \"n\" or user_answer == \"N\":\n",
    "            if user_answer == \"n\" or user_answer == \"N\":\n",
    "                print(\"Make sure the cables \\nbetween the router & modem\\nare plugged in firmly.\")\n",
    "                user_answer = input(\"Did that fix the problem? \")\n",
    "\n",
    "                if user_answer == \"Y\" or user_answer == \"y\" or user_answer == \"n\" or user_answer == \"N\":\n",
    "                    if user_answer == \"n\" or user_answer == \"N\":\n",
    "                        print(\"Move the router to\\nto a new location\\nand try to connect\")\n",
    "                        user_answer = input(\"Did that fix the problem? \")\n",
    "\n",
    "                        if user_answer == \"Y\" or user_answer == \"y\" or user_answer == \"n\" or user_answer == \"N\":\n",
    "                            print(\"Get a new router\")\n",
    "                        else:\n",
    "                            print(\"Please enter \\\"Y\\\" for yes or \\\"N\\\" for no.\\n Rerun program and try again.\")\n",
    "                else:\n",
    "                    print(\"Please enter \\\"Y\\\" for yes or \\\"N\\\" for no.\\n Rerun program and try again.\")\n",
    "        else:\n",
    "            print(\"Please enter \\\"Y\\\" for yes or \\\"N\\\" for no.\\n Rerun program and try again.\")\n",
    "else:\n",
    "    print(\"Please enter \\\"Y\\\" for yes or \\\"N\\\" for no.\\n Rerun program and try again.\")"
   ]
  },
  {
   "cell_type": "code",
   "execution_count": null,
   "id": "9ce97418",
   "metadata": {},
   "outputs": [],
   "source": []
  }
 ],
 "metadata": {
  "kernelspec": {
   "display_name": "Python 3 (ipykernel)",
   "language": "python",
   "name": "python3"
  },
  "language_info": {
   "codemirror_mode": {
    "name": "ipython",
    "version": 3
   },
   "file_extension": ".py",
   "mimetype": "text/x-python",
   "name": "python",
   "nbconvert_exporter": "python",
   "pygments_lexer": "ipython3",
   "version": "3.11.5"
  }
 },
 "nbformat": 4,
 "nbformat_minor": 5
}
