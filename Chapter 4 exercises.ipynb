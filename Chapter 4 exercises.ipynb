{
 "cells": [
  {
   "cell_type": "markdown",
   "id": "ecf03411",
   "metadata": {},
   "source": [
    "# Chapter 4 Exercises."
   ]
  },
  {
   "cell_type": "markdown",
   "id": "28ee89f1",
   "metadata": {},
   "source": [
    "## Question 1 Bug Collector\n",
    "\n",
    "A bug collector collects bugs every day for five days. Write a program that keeps a running total of the number of bugs collected during the five days. The loop should ask for the number of bugs collected for each day, and when the loop is finished, the program should display the total number of bugs collected."
   ]
  },
  {
   "cell_type": "code",
   "execution_count": 2,
   "id": "b8d50fb1",
   "metadata": {},
   "outputs": [
    {
     "name": "stdout",
     "output_type": "stream",
     "text": [
      "Enter the bugs collected on day 1\n",
      "Enter the bugs collected on day 2\n",
      "Enter the bugs collected on day 3\n",
      "Enter the bugs collected on day 4\n",
      "Enter the bugs collected on day 5\n",
      "Enter the bugs collected on day 6\n",
      "Enter the bugs collected on day 7\n",
      "You collected a total of 21 bugs.\n"
     ]
    }
   ],
   "source": [
    "# Set the accumulator to 0\n",
    "total = 0\n",
    "\n",
    "# get the bugs collected for each day\n",
    "for day in range (1, 8):\n",
    "    print(\"Enter the bugs collected on day\", day)\n",
    "    bugs = int(input())\n",
    "    total += bugs\n",
    "\n",
    " # Display the total bugs collected\n",
    "print(\"You collected a total of\", total, \"bugs.\")   "
   ]
  },
  {
   "cell_type": "code",
   "execution_count": null,
   "id": "e3d1368b",
   "metadata": {},
   "outputs": [],
   "source": []
  }
 ],
 "metadata": {
  "kernelspec": {
   "display_name": "Python 3 (ipykernel)",
   "language": "python",
   "name": "python3"
  },
  "language_info": {
   "codemirror_mode": {
    "name": "ipython",
    "version": 3
   },
   "file_extension": ".py",
   "mimetype": "text/x-python",
   "name": "python",
   "nbconvert_exporter": "python",
   "pygments_lexer": "ipython3",
   "version": "3.12.1"
  }
 },
 "nbformat": 4,
 "nbformat_minor": 5
}
