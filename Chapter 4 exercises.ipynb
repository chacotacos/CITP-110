{
 "cells": [
  {
   "cell_type": "markdown",
   "id": "ecf03411",
   "metadata": {},
   "source": [
    "# Chapter 4 Exercises."
   ]
  },
  {
   "cell_type": "markdown",
   "id": "28ee89f1",
   "metadata": {},
   "source": [
    "## Question 1 Bug Collector\n",
    "\n",
    "A bug collector collects bugs every day for five days. Write a program that keeps a running total of the number of bugs collected during the five days. The loop should ask for the number of bugs collected for each day, and when the loop is finished, the program should display the total number of bugs collected."
   ]
  },
  {
   "cell_type": "markdown",
   "id": "19b2645b",
   "metadata": {},
   "source": [
    "The problem needs to keep track of the amount of bugs collected over a a five day peroid. Using the range function we are able to keep a running total."
   ]
  },
  {
   "cell_type": "code",
   "execution_count": null,
   "id": "b8d50fb1",
   "metadata": {},
   "outputs": [],
   "source": [
    "# Set the accumulator to 0\n",
    "total = 0\n",
    "\n",
    "# get the bugs collected for each day\n",
    "for day in range (1, 8):\n",
    "    print(\"Enter the bugs collected on day\", day)\n",
    "    bugs = int(input())\n",
    "    total += bugs\n",
    "\n",
    " # Display the total bugs collected\n",
    "print(\"You collected a total of\", total, \"bugs.\")   "
   ]
  },
  {
   "cell_type": "markdown",
   "id": "97f6a59d",
   "metadata": {},
   "source": [
    "## Question 4 Distance Traveled\n",
    "\n",
    "Write a program that asks the user for the speed of a vehicle (in miles per hour) and the number of hours it has traveled. It should then use a loop to display the distance the vehicle has traveled for each hour of that time period."
   ]
  },
  {
   "cell_type": "markdown",
   "id": "510471d4",
   "metadata": {},
   "source": [
    "I love to drive so I chose this problem."
   ]
  },
  {
   "cell_type": "code",
   "execution_count": null,
   "id": "f795afe9",
   "metadata": {},
   "outputs": [
    {
     "name": "stdout",
     "output_type": "stream",
     "text": [
      "Hour\tDistance Traveled\n",
      "--------------------------\n",
      "1 \t 85\n",
      "2 \t 170\n",
      "3 \t 255\n",
      "4 \t 340\n",
      "5 \t 425\n",
      "6 \t 510\n",
      "7 \t 595\n",
      "8 \t 680\n",
      "9 \t 765\n",
      "10 \t 850\n",
      "11 \t 935\n",
      "12 \t 1020\n"
     ]
    }
   ],
   "source": [
    "# Get the speed of the vehicle in a whole positive number\n",
    "speed = int(input(\"Enter the speed of the vehicle: \"))\n",
    "while speed < 0:\n",
    "    print(\"Speed must be greater than 0.\")\n",
    "    speed = int(input(\"Enter the speed of the vehicle: \"))\n",
    "\n",
    "# Get the number of hours the vehicle has traveled in a whole positive number\n",
    "hours = int(input(\"Enter the number of hours the vehicle has traveled: \"))\n",
    "while hours < 1:\n",
    "    print(\"Hours must be greater than 0.\")\n",
    "    hours = int(input(\"Enter the number of hours the vehicle has traveled: \"))\n",
    "\n",
    "# Display the distance the vehicle has traveled for each hour\n",
    "print(\"Hour\\tDistance Traveled\")\n",
    "print(\"--------------------------\")\n",
    "for hour in range(1, hours + 1):\n",
    "    distance = speed * hour\n",
    "    print(hour, \"\\t\", distance)\n",
    "\n",
    "    \n"
   ]
  },
  {
   "cell_type": "markdown",
   "id": "e4bf84a6",
   "metadata": {},
   "source": [
    "## Question 11 Factorial\n",
    "Write a program that lets the user enter a nonnegative integer then uses a loop to calculate the factorial of that number. Display the factorial.\n",
    "\n",
    "I am not good with the math stuff. So, it took me a minute to reread the problem and I'm still not sure what a factorial is."
   ]
  },
  {
   "cell_type": "code",
   "execution_count": 1,
   "id": "e9a7d298",
   "metadata": {},
   "outputs": [
    {
     "name": "stdout",
     "output_type": "stream",
     "text": [
      "The factorial of 30 is 265252859812191058636308480000000\n"
     ]
    }
   ],
   "source": [
    "# This program calculatates the factorial of a nonnegative integer\n",
    "# Get a nonnegative integer from the user\n",
    "number = int(input(\"Enter a nonnegative integer: \"))\n",
    "\n",
    "# Validate the input\n",
    "while number < 0:\n",
    "    print(\"Number must be nonnegative.\")\n",
    "    number = int(input(\"Enter a nonnegative integer: \"))\n",
    "\n",
    "# Calculate the factorial of the number\n",
    "factorial = 1   \n",
    "for i in range(1, number + 1):\n",
    "    factorial *= i\n",
    "\n",
    "# Display the factorial of the number\n",
    "print(\"The factorial of\", number, \"is\", factorial)\n",
    "        "
   ]
  },
  {
   "cell_type": "markdown",
   "id": "768bbdee",
   "metadata": {},
   "source": [
    "## Question 13 draw a pattern\n",
    "Write a program that uses nested loops to draw this pattern: \n",
    "\n",
    "Use the range function to draw an upside down christmas tree pattern."
   ]
  },
  {
   "cell_type": "code",
   "execution_count": 2,
   "id": "4fe95b86",
   "metadata": {},
   "outputs": [
    {
     "name": "stdout",
     "output_type": "stream",
     "text": [
      "***************\n",
      " *************\n",
      "  ***********\n",
      "   *********\n",
      "    *******\n",
      "     *****\n",
      "      ***\n",
      "       *\n"
     ]
    }
   ],
   "source": [
    "# Get the number of rows to draw the pattern\n",
    "rows = int(input(\"Enter the number of rows: \"))\n",
    "while rows < 1:\n",
    "    print(\"Rows must be greater than 0.\")\n",
    "    rows = int(input(\"Enter the number of rows: \"))\n",
    "\n",
    "# Draw the upside-down Christmas tree pattern\n",
    "for i in range(rows, 0, -1):\n",
    "    for j in range(rows - i):\n",
    "        print(\" \", end=\"\")\n",
    "    for k in range(2 * i - 1):\n",
    "        print(\"*\", end=\"\")\n",
    "    print()\n",
    "rows = int(input(\"Enter the number of rows: \"))\n"
   ]
  },
  {
   "cell_type": "markdown",
   "id": "29fffd64",
   "metadata": {},
   "source": [
    "## Question 16 Turtle Graphics: Star Pattern\n",
    "\n",
    "I am going to use turtle graphics to create an 8 pointed star."
   ]
  },
  {
   "cell_type": "markdown",
   "id": "f5ceb374",
   "metadata": {},
   "source": [
    "Use turtle graphics to draw an star. The star needs to run one time and quit. "
   ]
  },
  {
   "cell_type": "code",
   "execution_count": 14,
   "id": "c57b489d",
   "metadata": {},
   "outputs": [
    {
     "ename": "Terminator",
     "evalue": "",
     "output_type": "error",
     "traceback": [
      "\u001b[0;31m---------------------------------------------------------------------------\u001b[0m",
      "\u001b[0;31mTerminator\u001b[0m                                Traceback (most recent call last)",
      "Cell \u001b[0;32mIn[14], line 20\u001b[0m\n\u001b[1;32m     18\u001b[0m turtle\u001b[38;5;241m.\u001b[39mright(\u001b[38;5;241m135\u001b[39m)\n\u001b[1;32m     19\u001b[0m turtle\u001b[38;5;241m.\u001b[39mforward(move)\n\u001b[0;32m---> 20\u001b[0m \u001b[43mturtle\u001b[49m\u001b[38;5;241;43m.\u001b[39;49m\u001b[43mright\u001b[49m\u001b[43m(\u001b[49m\u001b[38;5;241;43m135\u001b[39;49m\u001b[43m)\u001b[49m\n",
      "File \u001b[0;32m<string>:8\u001b[0m, in \u001b[0;36mright\u001b[0;34m(angle)\u001b[0m\n",
      "File \u001b[0;32m/Library/Frameworks/Python.framework/Versions/3.12/lib/python3.12/turtle.py:1677\u001b[0m, in \u001b[0;36mTNavigator.right\u001b[0;34m(self, angle)\u001b[0m\n\u001b[1;32m   1658\u001b[0m \u001b[38;5;28;01mdef\u001b[39;00m \u001b[38;5;21mright\u001b[39m(\u001b[38;5;28mself\u001b[39m, angle):\n\u001b[1;32m   1659\u001b[0m \u001b[38;5;250m    \u001b[39m\u001b[38;5;124;03m\"\"\"Turn turtle right by angle units.\u001b[39;00m\n\u001b[1;32m   1660\u001b[0m \n\u001b[1;32m   1661\u001b[0m \u001b[38;5;124;03m    Aliases: right | rt\u001b[39;00m\n\u001b[0;32m   (...)\u001b[0m\n\u001b[1;32m   1675\u001b[0m \u001b[38;5;124;03m    337.0\u001b[39;00m\n\u001b[1;32m   1676\u001b[0m \u001b[38;5;124;03m    \"\"\"\u001b[39;00m\n\u001b[0;32m-> 1677\u001b[0m     \u001b[38;5;28;43mself\u001b[39;49m\u001b[38;5;241;43m.\u001b[39;49m\u001b[43m_rotate\u001b[49m\u001b[43m(\u001b[49m\u001b[38;5;241;43m-\u001b[39;49m\u001b[43mangle\u001b[49m\u001b[43m)\u001b[49m\n",
      "File \u001b[0;32m/Library/Frameworks/Python.framework/Versions/3.12/lib/python3.12/turtle.py:3350\u001b[0m, in \u001b[0;36mRawTurtle._rotate\u001b[0;34m(self, angle)\u001b[0m\n\u001b[1;32m   3348\u001b[0m         \u001b[38;5;28mself\u001b[39m\u001b[38;5;241m.\u001b[39m_update()\n\u001b[1;32m   3349\u001b[0m \u001b[38;5;28mself\u001b[39m\u001b[38;5;241m.\u001b[39m_orient \u001b[38;5;241m=\u001b[39m neworient\n\u001b[0;32m-> 3350\u001b[0m \u001b[38;5;28;43mself\u001b[39;49m\u001b[38;5;241;43m.\u001b[39;49m\u001b[43m_update\u001b[49m\u001b[43m(\u001b[49m\u001b[43m)\u001b[49m\n",
      "File \u001b[0;32m/Library/Frameworks/Python.framework/Versions/3.12/lib/python3.12/turtle.py:2668\u001b[0m, in \u001b[0;36mRawTurtle._update\u001b[0;34m(self)\u001b[0m\n\u001b[1;32m   2666\u001b[0m     \u001b[38;5;28;01mreturn\u001b[39;00m\n\u001b[1;32m   2667\u001b[0m \u001b[38;5;28;01melif\u001b[39;00m screen\u001b[38;5;241m.\u001b[39m_tracing \u001b[38;5;241m==\u001b[39m \u001b[38;5;241m1\u001b[39m:\n\u001b[0;32m-> 2668\u001b[0m     \u001b[38;5;28;43mself\u001b[39;49m\u001b[38;5;241;43m.\u001b[39;49m\u001b[43m_update_data\u001b[49m\u001b[43m(\u001b[49m\u001b[43m)\u001b[49m\n\u001b[1;32m   2669\u001b[0m     \u001b[38;5;28mself\u001b[39m\u001b[38;5;241m.\u001b[39m_drawturtle()\n\u001b[1;32m   2670\u001b[0m     screen\u001b[38;5;241m.\u001b[39m_update()                  \u001b[38;5;66;03m# TurtleScreenBase\u001b[39;00m\n",
      "File \u001b[0;32m/Library/Frameworks/Python.framework/Versions/3.12/lib/python3.12/turtle.py:2654\u001b[0m, in \u001b[0;36mRawTurtle._update_data\u001b[0;34m(self)\u001b[0m\n\u001b[1;32m   2653\u001b[0m \u001b[38;5;28;01mdef\u001b[39;00m \u001b[38;5;21m_update_data\u001b[39m(\u001b[38;5;28mself\u001b[39m):\n\u001b[0;32m-> 2654\u001b[0m     \u001b[38;5;28;43mself\u001b[39;49m\u001b[38;5;241;43m.\u001b[39;49m\u001b[43mscreen\u001b[49m\u001b[38;5;241;43m.\u001b[39;49m\u001b[43m_incrementudc\u001b[49m\u001b[43m(\u001b[49m\u001b[43m)\u001b[49m\n\u001b[1;32m   2655\u001b[0m     \u001b[38;5;28;01mif\u001b[39;00m \u001b[38;5;28mself\u001b[39m\u001b[38;5;241m.\u001b[39mscreen\u001b[38;5;241m.\u001b[39m_updatecounter \u001b[38;5;241m!=\u001b[39m \u001b[38;5;241m0\u001b[39m:\n\u001b[1;32m   2656\u001b[0m         \u001b[38;5;28;01mreturn\u001b[39;00m\n",
      "File \u001b[0;32m/Library/Frameworks/Python.framework/Versions/3.12/lib/python3.12/turtle.py:1284\u001b[0m, in \u001b[0;36mTurtleScreen._incrementudc\u001b[0;34m(self)\u001b[0m\n\u001b[1;32m   1282\u001b[0m \u001b[38;5;28;01mif\u001b[39;00m \u001b[38;5;129;01mnot\u001b[39;00m TurtleScreen\u001b[38;5;241m.\u001b[39m_RUNNING:\n\u001b[1;32m   1283\u001b[0m     TurtleScreen\u001b[38;5;241m.\u001b[39m_RUNNING \u001b[38;5;241m=\u001b[39m \u001b[38;5;28;01mTrue\u001b[39;00m\n\u001b[0;32m-> 1284\u001b[0m     \u001b[38;5;28;01mraise\u001b[39;00m Terminator\n\u001b[1;32m   1285\u001b[0m \u001b[38;5;28;01mif\u001b[39;00m \u001b[38;5;28mself\u001b[39m\u001b[38;5;241m.\u001b[39m_tracing \u001b[38;5;241m>\u001b[39m \u001b[38;5;241m0\u001b[39m:\n\u001b[1;32m   1286\u001b[0m     \u001b[38;5;28mself\u001b[39m\u001b[38;5;241m.\u001b[39m_updatecounter \u001b[38;5;241m+\u001b[39m\u001b[38;5;241m=\u001b[39m \u001b[38;5;241m1\u001b[39m\n",
      "\u001b[0;31mTerminator\u001b[0m: "
     ]
    }
   ],
   "source": [
    "# Import turtle\n",
    "import turtle\n",
    "\n",
    "# create a move variable\n",
    "move = 200\n",
    "\n",
    "# Move the turtle to the starting position\n",
    "turtle.penup()\n",
    "turtle.goto(-50, 50)\n",
    "turtle.pendown()\n",
    "\n",
    "# hide the turtle\n",
    "turtle.hideturtle()\n",
    "\n",
    "# Draw the 8 sided star pattern\n",
    "for i in range(8):\n",
    "    turtle.forward(move)\n",
    "    turtle.right(135)\n",
    "    turtle.forward(move)\n",
    "    turtle.right(135)\n",
    "\n",
    "\n"
   ]
  },
  {
   "cell_type": "markdown",
   "id": "e9e538da",
   "metadata": {},
   "source": [
    "That code is causing an infinite loop that needs a break"
   ]
  },
  {
   "cell_type": "code",
   "execution_count": 16,
   "id": "1b9f664b",
   "metadata": {},
   "outputs": [],
   "source": [
    "# Import turtle\n",
    "import turtle\n",
    "\n",
    "# create a move variable\n",
    "move = 200\n",
    "right = 135     \n",
    "\n",
    "# Move the turtle to the starting position\n",
    "turtle.penup()\n",
    "turtle.goto(-50, 50)\n",
    "turtle.pendown()\n",
    "\n",
    "\n",
    "# Draw the 8 sided star pattern\n",
    "for i in range(8):\n",
    "    turtle.forward(move)\n",
    "    turtle.right(right)\n",
    "\n",
    "# Exit the loop after drawing the pattern once\n",
    "turtle.done()\n",
    "\n",
    "\n"
   ]
  },
  {
   "cell_type": "markdown",
   "id": "f515a8e7",
   "metadata": {},
   "source": [
    "## Algorithim Questions"
   ]
  },
  {
   "cell_type": "markdown",
   "id": "2edbc36d",
   "metadata": {},
   "source": [
    "## Question 1:\n",
    "Write a while loop that lets the user enter a number. The number should be multiplied by 10, and the result assigned to a variable named product. The loop should iterate as long as product is less than 100."
   ]
  },
  {
   "cell_type": "code",
   "execution_count": 17,
   "id": "019adca0",
   "metadata": {},
   "outputs": [
    {
     "name": "stdout",
     "output_type": "stream",
     "text": [
      "3 13 23 33 43 53 63 73 83 93 "
     ]
    }
   ],
   "source": [
    "# for loop to count to 100 by 10s.\n",
    "# get the number to begin counting from\n",
    "begin = int(input(\"Enter the number to begin counting from: \"))\n",
    "\n",
    "# get the number to end counting\n",
    "end = 100\n",
    "\n",
    "# the step value\n",
    "step = 10\n",
    "\n",
    "# the for loop to count to 100 by 10s\n",
    "for i in range(begin, end + 1, step):\n",
    "    print(i, end=\" \")"
   ]
  },
  {
   "cell_type": "markdown",
   "id": "bf0dd8c2",
   "metadata": {},
   "source": [
    "## Question 8:\n",
    "Write code that prompts the user to enter a positive nonzero number and validates the input."
   ]
  },
  {
   "cell_type": "code",
   "execution_count": 18,
   "id": "bd1ed3a1",
   "metadata": {},
   "outputs": [],
   "source": [
    "# Get a positive nonzero number from the user\n",
    "number = int(input(\"Enter a positive nonzero number: \"))\n",
    "while number <= 0:\n",
    "    print(\"Number must be positive and nonzero.\")\n",
    "    number = int(input(\"Enter a positive nonzero number: \"))"
   ]
  }
 ],
 "metadata": {
  "kernelspec": {
   "display_name": "Python 3 (ipykernel)",
   "language": "python",
   "name": "python3"
  },
  "language_info": {
   "codemirror_mode": {
    "name": "ipython",
    "version": 3
   },
   "file_extension": ".py",
   "mimetype": "text/x-python",
   "name": "python",
   "nbconvert_exporter": "python",
   "pygments_lexer": "ipython3",
   "version": "3.12.1"
  }
 },
 "nbformat": 4,
 "nbformat_minor": 5
}
