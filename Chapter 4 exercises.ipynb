{
 "cells": [
  {
   "cell_type": "markdown",
   "id": "ecf03411",
   "metadata": {},
   "source": [
    "# Chapter 4 Exercises."
   ]
  },
  {
   "cell_type": "markdown",
   "id": "28ee89f1",
   "metadata": {},
   "source": [
    "## Question 1 Bug Collector\n",
    "\n",
    "A bug collector collects bugs every day for five days. Write a program that keeps a running total of the number of bugs collected during the five days. The loop should ask for the number of bugs collected for each day, and when the loop is finished, the program should display the total number of bugs collected."
   ]
  },
  {
   "cell_type": "code",
   "execution_count": 2,
   "id": "b8d50fb1",
   "metadata": {},
   "outputs": [
    {
     "name": "stdout",
     "output_type": "stream",
     "text": [
      "Enter the bugs collected on day 1\n",
      "Enter the bugs collected on day 2\n",
      "Enter the bugs collected on day 3\n",
      "Enter the bugs collected on day 4\n",
      "Enter the bugs collected on day 5\n",
      "Enter the bugs collected on day 6\n",
      "Enter the bugs collected on day 7\n",
      "You collected a total of 21 bugs.\n"
     ]
    }
   ],
   "source": [
    "# Set the accumulator to 0\n",
    "total = 0\n",
    "\n",
    "# get the bugs collected for each day\n",
    "for day in range (1, 8):\n",
    "    print(\"Enter the bugs collected on day\", day)\n",
    "    bugs = int(input())\n",
    "    total += bugs\n",
    "\n",
    " # Display the total bugs collected\n",
    "print(\"You collected a total of\", total, \"bugs.\")   "
   ]
  },
  {
   "cell_type": "markdown",
   "id": "97f6a59d",
   "metadata": {},
   "source": [
    "## Question 4 Distance Traveled\n",
    "\n",
    "Write a program that asks the user for the speed of a vehicle (in miles per hour) and the number of hours it has traveled. It should then use a loop to display the distance the vehicle has traveled for each hour of that time period."
   ]
  },
  {
   "cell_type": "markdown",
   "id": "510471d4",
   "metadata": {},
   "source": [
    "I love to drive so I chose this problem."
   ]
  },
  {
   "cell_type": "code",
   "execution_count": 3,
   "id": "f795afe9",
   "metadata": {},
   "outputs": [],
   "source": [
    "# Get the speed of the vehicle in a whole positive number\n",
    "speed = int(input(\"Enter the speed of the vehicle: \"))\n",
    "while speed < 0:\n",
    "    print(\"Speed must be greater than 0.\")\n",
    "    speed = int(input(\"Enter the speed of the vehicle: \"))\n",
    "\n",
    "# Get the number of hours the vehicle has traveled in a whole positive number\n",
    "hours = int(input(\"Enter the number of hours the vehicle has traveled: \"))\n",
    "while hours < 1:\n",
    "    print(\"Hours must be greater than 0.\")\n",
    "    hours = int(input(\"Enter the number of hours the vehicle has traveled: \"))\n",
    "    "
   ]
  },
  {
   "cell_type": "code",
   "execution_count": null,
   "id": "768bbdee",
   "metadata": {},
   "outputs": [],
   "source": []
  }
 ],
 "metadata": {
  "kernelspec": {
   "display_name": "Python 3 (ipykernel)",
   "language": "python",
   "name": "python3"
  },
  "language_info": {
   "codemirror_mode": {
    "name": "ipython",
    "version": 3
   },
   "file_extension": ".py",
   "mimetype": "text/x-python",
   "name": "python",
   "nbconvert_exporter": "python",
   "pygments_lexer": "ipython3",
   "version": "3.12.1"
  }
 },
 "nbformat": 4,
 "nbformat_minor": 5
}
