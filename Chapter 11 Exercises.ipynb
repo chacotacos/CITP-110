{
 "cells": [
  {
   "cell_type": "markdown",
   "metadata": {},
   "source": [
    "# Chapter 11 Programming Exercises"
   ]
  },
  {
   "cell_type": "markdown",
   "metadata": {},
   "source": [
    "## Question 1. Employee and ProductionWorker Classes\n"
   ]
  },
  {
   "cell_type": "code",
   "execution_count": null,
   "metadata": {},
   "outputs": [],
   "source": [
    "This file holds the main program logic"
   ]
  },
  {
   "cell_type": "code",
   "execution_count": 1,
   "metadata": {},
   "outputs": [
    {
     "ename": "SyntaxError",
     "evalue": "invalid syntax (production_worker.py, line 2)",
     "output_type": "error",
     "traceback": [
      "Traceback \u001b[0;36m(most recent call last)\u001b[0m:\n",
      "\u001b[0m  File \u001b[1;32m~/Library/Python/3.12/lib/python/site-packages/IPython/core/interactiveshell.py:3553\u001b[0m in \u001b[1;35mrun_code\u001b[0m\n    exec(code_obj, self.user_global_ns, self.user_ns)\u001b[0m\n",
      "\u001b[0;36m  Cell \u001b[0;32mIn[1], line 1\u001b[0;36m\n\u001b[0;31m    from production_worker import ProductionWorker\u001b[0;36m\n",
      "\u001b[0;36m  File \u001b[0;32m~/Documents/GitHub/CITP-110/production_worker.py:2\u001b[0;36m\u001b[0m\n\u001b[0;31m    def __init__(self, name, emp_number< shift, hourly_pay_rate):\u001b[0m\n\u001b[0m                                       ^\u001b[0m\n\u001b[0;31mSyntaxError\u001b[0m\u001b[0;31m:\u001b[0m invalid syntax\n"
     ]
    }
   ],
   "source": [
    "from production_worker import ProductionWorker\n",
    "\n",
    "def main():\n",
    "# Prompt user to enter employee information\n",
    "    name = input(\"Enter employee name: \")\n",
    "    emp_number = input(\"Enter employee number: \")\n",
    "    shift = int(input(\"Enter shift (1 for day shift, 2 for night shift): \"))\n",
    "    pay_rate = float(input(\"Enter hourly pay rate: \"))\n",
    "\n",
    "# Create a ProductionWorker object with the given information\n",
    "    worker = ProductionWorker(name, emp_number, shift, pay_rate)\n",
    "\n",
    "# Display the information\n",
    "    print(\"Employee information:\")\n",
    "    print(\"Name:\", worker.get_name())\n",
    "    print(\"Employee number:\", worker.get_emp_number())\n",
    "    if worker.get_shift() == 1:\n",
    "        print(\"Shift: Day\")\n",
    "    elif worker.get_shift() == 2:\n",
    "        print(\"Shift: Night\")\n",
    "    print(\"Hourly pay rate: $\", worker.get_pay_rate(), sep='')\n",
    "\n",
    "    if __name__ == \"__main__\":\n",
    "        main()\n",
    "        "
   ]
  },
  {
   "cell_type": "code",
   "execution_count": null,
   "metadata": {},
   "outputs": [],
   "source": []
  }
 ],
 "metadata": {
  "kernelspec": {
   "display_name": "Python 3",
   "language": "python",
   "name": "python3"
  },
  "language_info": {
   "codemirror_mode": {
    "name": "ipython",
    "version": 3
   },
   "file_extension": ".py",
   "mimetype": "text/x-python",
   "name": "python",
   "nbconvert_exporter": "python",
   "pygments_lexer": "ipython3",
   "version": "3.12.1"
  }
 },
 "nbformat": 4,
 "nbformat_minor": 2
}
