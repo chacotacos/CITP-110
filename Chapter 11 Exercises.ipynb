{
 "cells": [
  {
   "cell_type": "markdown",
   "metadata": {},
   "source": [
    "# Chapter 11 Programming Exercises"
   ]
  },
  {
   "cell_type": "markdown",
   "metadata": {},
   "source": [
    "## Question 1. Employee and ProductionWorker Classes\n"
   ]
  },
  {
   "cell_type": "markdown",
   "metadata": {},
   "source": [
    "This file holds the main program logic\n",
    "\n",
    "Holy moly! This was an exercise in debugging!!! Tracking down syntax errors in three different places. Indentations, wrong punctuation, forgetting to define a whole class. Definitely an reminder that even the smallest things will get you.\n"
   ]
  },
  {
   "cell_type": "code",
   "execution_count": 6,
   "metadata": {},
   "outputs": [],
   "source": [
    "from production_worker import ProductionWorker\n",
    "\n",
    "def main():\n",
    "# Prompt user to enter employee information\n",
    "    name = input(\"Enter employee name: \")\n",
    "    emp_number = input(\"Enter employee number: \")\n",
    "    shift = int(input(\"Enter shift (1 for day shift, 2 for night shift): \"))\n",
    "    pay_rate = float(input(\"Enter hourly pay rate: \"))\n",
    "\n",
    "# Create a ProductionWorker object with the given information\n",
    "    worker = ProductionWorker(name, emp_number, shift, pay_rate)\n",
    "\n",
    "# Display the information\n",
    "    print(\"Employee information:\")\n",
    "    print(\"Name:\", worker.get_name())\n",
    "    print(\"Employee number:\", worker.get_emp_number())\n",
    "    if worker.get_shift() == 1:\n",
    "        print(\"Shift: Day\")\n",
    "    elif worker.get_shift() == 2:\n",
    "        print(\"Shift: Night\")\n",
    "    print(\"Hourly pay rate: $\", worker.get_pay_rate(), sep='')\n",
    "\n",
    "    if __name__ == \"__main__\":\n",
    "        main()\n",
    "        "
   ]
  },
  {
   "cell_type": "markdown",
   "metadata": {},
   "source": [
    "## Question 2 Shift Supervisor \n",
    "Add the shift supervisor to the employee class\n"
   ]
  },
  {
   "cell_type": "code",
   "execution_count": 7,
   "metadata": {},
   "outputs": [],
   "source": [
    "from production_worker import ProductionWorker\n",
    "from shift_supervisor import ShiftSupervisor\n",
    "\n",
    "def main():\n",
    "# Prompt user to enter employee information\n",
    "    print(\"1. Create a Production Worker\")\n",
    "    print(\"2. Create a Shift Supervisor\")\n",
    "    choice = int(input(\"Enter your choice (1 or 2): \"))\n",
    "\n",
    "    if choice == 1:\n",
    "        create_production_worker()\n",
    "    elif choice == 2:\n",
    "        create_shift_supervisor()\n",
    "    else:\n",
    "        print(\"Invalid choice\")\n",
    "\n",
    "def create_production_worker():\n",
    "    name = input(\"Enter employee name: \")\n",
    "    emp_number = input(\"Enter employee number: \")\n",
    "    shift = int(input(\"Enter shift (1 for day shift, 2 for night shift): \"))\n",
    "    pay_rate = float(input(\"Enter hourly pay rate: \"))\n",
    "\n",
    "# Create a ProductionWorker object with the given information\n",
    "    worker = ProductionWorker(name, emp_number, shift, pay_rate)\n",
    "\n",
    "def create_shift_supervisor():\n",
    "    name = input(\"Enter employee name: \")\n",
    "    emp_number = input(\"Enter employee number: \")\n",
    "    annual_salary = float(input(\"Enter annual salary: \"))\n",
    "    bonus = float(input(\"Enter annual production bonus: \"))\n",
    "\n",
    "# Create a ShiftSupervisor object with the given information\n",
    "    worker = ShiftSupervisor(name, emp_number, annual_salary, bonus)\n",
    "\n",
    "\n",
    "    if __name__ == \"__main__\":\n",
    "        main()\n",
    "        "
   ]
  }
 ],
 "metadata": {
  "kernelspec": {
   "display_name": "Python 3",
   "language": "python",
   "name": "python3"
  },
  "language_info": {
   "codemirror_mode": {
    "name": "ipython",
    "version": 3
   },
   "file_extension": ".py",
   "mimetype": "text/x-python",
   "name": "python",
   "nbconvert_exporter": "python",
   "pygments_lexer": "ipython3",
   "version": "3.12.1"
  }
 },
 "nbformat": 4,
 "nbformat_minor": 2
}
