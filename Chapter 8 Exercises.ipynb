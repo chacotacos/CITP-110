{
 "cells": [
  {
   "cell_type": "markdown",
   "metadata": {},
   "source": [
    "## Chapter 8 Exercises"
   ]
  },
  {
   "cell_type": "markdown",
   "metadata": {},
   "source": [
    "## Algorithim Workbench\n",
    "\n",
    "### Question 1\n",
    "Assume `choice` references a string. The following if statement determines whether is equal to ‘Y’ or ‘y’: Rewrite this statement so it only makes one comparison, and does not use the  or operator"
   ]
  },
  {
   "cell_type": "markdown",
   "metadata": {},
   "source": [
    "This code will take a \"Y\" and convert it to lowercase before proceeding."
   ]
  },
  {
   "cell_type": "code",
   "execution_count": 1,
   "metadata": {},
   "outputs": [
    {
     "ename": "NameError",
     "evalue": "name 'choice' is not defined",
     "output_type": "error",
     "traceback": [
      "\u001b[0;31m---------------------------------------------------------------------------\u001b[0m",
      "\u001b[0;31mNameError\u001b[0m                                 Traceback (most recent call last)",
      "Cell \u001b[0;32mIn[1], line 10\u001b[0m\n\u001b[1;32m      7\u001b[0m         \u001b[38;5;28;01mpass\u001b[39;00m\n\u001b[1;32m      9\u001b[0m \u001b[38;5;28;01mif\u001b[39;00m \u001b[38;5;18m__name__\u001b[39m \u001b[38;5;241m==\u001b[39m \u001b[38;5;124m\"\u001b[39m\u001b[38;5;124m__main__\u001b[39m\u001b[38;5;124m\"\u001b[39m:\n\u001b[0;32m---> 10\u001b[0m     \u001b[43mmain\u001b[49m\u001b[43m(\u001b[49m\u001b[43m)\u001b[49m\n",
      "Cell \u001b[0;32mIn[1], line 5\u001b[0m, in \u001b[0;36mmain\u001b[0;34m()\u001b[0m\n\u001b[1;32m      4\u001b[0m \u001b[38;5;28;01mdef\u001b[39;00m \u001b[38;5;21mmain\u001b[39m():\n\u001b[0;32m----> 5\u001b[0m     \u001b[38;5;28;01mif\u001b[39;00m \u001b[43mchoice\u001b[49m\u001b[38;5;241m.\u001b[39mlower() \u001b[38;5;241m==\u001b[39m \u001b[38;5;124m'\u001b[39m\u001b[38;5;124my\u001b[39m\u001b[38;5;124m'\u001b[39m:\n\u001b[1;32m      7\u001b[0m         \u001b[38;5;28;01mpass\u001b[39;00m\n",
      "\u001b[0;31mNameError\u001b[0m: name 'choice' is not defined"
     ]
    }
   ],
   "source": [
    "# Code block if choice is 'Y' or 'y' \n",
    "# This will execute if choice is either 'Y' or 'y'\n",
    "\n",
    "def main():\n",
    "    if choice.lower() == 'y':\n",
    "        \n",
    "        pass\n",
    "\n",
    "if __name__ == \"__main__\":\n",
    "    main()\n"
   ]
  },
  {
   "cell_type": "markdown",
   "metadata": {},
   "source": [
    "### Question 2\n",
    "Write a loop that counts the number of space characters that appear in the string referenced by `mystring`."
   ]
  },
  {
   "cell_type": "markdown",
   "metadata": {},
   "source": [
    "It is always a learning experience with indentions and what needs to go inside the functions."
   ]
  },
  {
   "cell_type": "code",
   "execution_count": 6,
   "metadata": {},
   "outputs": [
    {
     "name": "stdout",
     "output_type": "stream",
     "text": [
      "5\n"
     ]
    }
   ],
   "source": [
    "def main():\n",
    "    # Set up `mystring`\n",
    "    mystring = \"Professor Adam has the coolest hats.\"\n",
    "\n",
    "    space_count= 0 # Initialize the space counter\n",
    "\n",
    "\n",
    "    for char in mystring:\n",
    "        if char == \" \": # Check if the character is a space\n",
    "            space_count += 1 # Increment the space counter\n",
    "    print(space_count) # Print the space counter\n",
    "\n",
    "main()\n"
   ]
  },
  {
   "cell_type": "markdown",
   "metadata": {},
   "source": [
    "## Proggraming Exercises."
   ]
  },
  {
   "cell_type": "markdown",
   "metadata": {},
   "source": [
    "### Question 1. Initials\n",
    "Write a program that gets a string containing a person’s first, middle, and last names, and displays their first, middle, and last initials. For example, if the user enters John William Smith, the program should display J. W. S.\n",
    "\n",
    "It needs to get first, middle, and last initials from a full name string. It should return a tuple containing the initials. It took a little work to figure out how to get the initials lined up with the `\".\"`"
   ]
  },
  {
   "cell_type": "code",
   "execution_count": 15,
   "metadata": {},
   "outputs": [
    {
     "name": "stdout",
     "output_type": "stream",
     "text": [
      "J. W. S.\n"
     ]
    }
   ],
   "source": [
    "def get_initials(fullname):\n",
    "    \n",
    "    # Split the full name into first, middle, and last names\n",
    "    names = fullname.split()\n",
    "\n",
    "    # Extract the first character of each name to get the initials\n",
    "    first_initial = names[0][0] # Get the first character of the first name\n",
    "    middle_initial = names[1][0] # Get the first character of the middle name\n",
    "    last_initial = names[2][0] # Get the first character of the last name\n",
    "\n",
    "    return first_initial + middle_initial + last_initial # Concatenate the initials\n",
    "\n",
    "def main():\n",
    "    # Get the full name from the user\n",
    "    fullname = input(\"Enter your full name: \")\n",
    "\n",
    "    # Get the initials\n",
    "    first_initial, middle_initial, last_initial = get_initials(fullname)\n",
    "\n",
    "    # Print the initials\n",
    "    print(first_initial + \".\" , middle_initial + \".\", last_initial + \".\")\n",
    "  \n",
    "if __name__ == \"__main__\":\n",
    "    main()"
   ]
  },
  {
   "cell_type": "markdown",
   "metadata": {},
   "source": [
    "### Question 2. Sum of Digits in a String\n",
    "Write a program that asks the user to enter a series of single-digit numbers with nothing separating them. The program should display the sum of all the single digit numbers in the string. For example, if the user enters 2514, the method should return 12, which is the sum of 2, 5, 1, and 4.\n",
    "\n",
    "This program will prompt the user to enter a series of numbers. Convert them to an interger and add them to the total sum. Finally displaying the result to the user.\n"
   ]
  },
  {
   "cell_type": "code",
   "execution_count": 18,
   "metadata": {},
   "outputs": [
    {
     "name": "stdout",
     "output_type": "stream",
     "text": [
      "The sum of digits in the string is: 21\n"
     ]
    }
   ],
   "source": [
    "# Sum of digits in a string\n",
    "def sum_digits(s):\n",
    "    sum = 0 # Initialize the sum to 0\n",
    "    # Iterate through each character in the string\n",
    "    for char in s:\n",
    "        # Check if the character is a digit\n",
    "        if char.isdigit():\n",
    "            # If the character is a digit, add it to the sum\n",
    "            sum += int(char)\n",
    "    return sum\n",
    "\n",
    "# get input from the user\n",
    "def main():\n",
    "    # Get the string from the user\n",
    "    s = input(\"Enter a string: \")\n",
    "    # Get the sum of digits in the string\n",
    "    sum = sum_digits(s)\n",
    "    # Print the sum of digits\n",
    "    print(\"The sum of digits in the string is:\", sum)\n",
    "\n",
    "if __name__ == \"__main__\":\n",
    "    main()\n",
    "    "
   ]
  },
  {
   "cell_type": "markdown",
   "metadata": {},
   "source": [
    "### Question 6. Average Number of Words\n",
    "\n",
    "If you have downloaded the source code from the Computer Science Portal you will find a file named `text.txt` in the Chapter 08 folder. The text that is in the file is stored as one sentence per line. Write a program that reads the file’s contents and calculates the average number of words per sentence.\n",
    "\n",
    "I'm sure with a little extra time and asking chatgpt, I could have worked out how to pick a line to get the average of an individual line..."
   ]
  },
  {
   "cell_type": "code",
   "execution_count": 1,
   "metadata": {},
   "outputs": [
    {
     "name": "stdout",
     "output_type": "stream",
     "text": [
      "The average number of words per sentence is: 26.0\n"
     ]
    }
   ],
   "source": [
    "# Average number of words per sentence\n",
    "def calculate_average_words_per_sentence(file_path):\n",
    "    try:\n",
    "        # Open the file in read mode\n",
    "        with open(file_path, 'r') as file:\n",
    "            # Read all of the lines from the file\n",
    "            lines = file.readlines()\n",
    "\n",
    "            # Initialize the word count to 0\n",
    "            word_count = 0\n",
    "            # Get the total number of sentences\n",
    "            total_sentences = len(lines) \n",
    "\n",
    "            # Iterate through each line in the file\n",
    "            for line in lines:\n",
    "                # Split the line into words\n",
    "                words = line.split()\n",
    "                # Add the number of words in the line to the word count\n",
    "                word_count += len(words)\n",
    "\n",
    "            # Calculate the average number of words per sentence\n",
    "            average_words_per_sentence = word_count / total_sentences\n",
    "\n",
    "            return average_words_per_sentence\n",
    "\n",
    "    except FileNotFoundError:\n",
    "        print(\"File not found. Please check the file path and try again.\")\n",
    "        return None\n",
    "\n",
    "def main():\n",
    "    file_path = \"text.txt\" # Path to the file\n",
    "\n",
    "    # Calculate the average number of words per sentence\n",
    "    average_words_per_sentence = calculate_average_words_per_sentence(file_path)\n",
    "\n",
    "    if average_words_per_sentence is not None:\n",
    "        # Print the average number of words per sentence\n",
    "        print(\"The average number of words per sentence is:\", average_words_per_sentence)\n",
    "\n",
    "if __name__ == \"__main__\":\n",
    "    main()\n",
    "    "
   ]
  },
  {
   "cell_type": "markdown",
   "metadata": {},
   "source": [
    "### Question 7. Character Analysis\n",
    "If you have downloaded the source code you will find a file named `text.txt.` in the Chapter 08 folder. Write a program that reads the file’s contents and determines the following:  \n",
    "The number of uppercase letters in the file. \n",
    "The number of lowercase letters in the file. \n",
    "The number of digits in the file. \n",
    "The number of whitespace characters in the file.\n",
    "\n",
    "I chose this one because I like building on what I have already done. And, I wanted the challenge. This hard part of this was remembering the formatting of the `if, elif` statements."
   ]
  },
  {
   "cell_type": "code",
   "execution_count": 5,
   "metadata": {},
   "outputs": [
    {
     "name": "stdout",
     "output_type": "stream",
     "text": [
      "Uppercase letters: 29\n",
      "Lowercase letters: 1228\n",
      "Digits: 30\n",
      "Whitespace characters: 260\n"
     ]
    }
   ],
   "source": [
    "# This program that reads the contents of a file and \n",
    "# determines the number of uppercase letters, lowercase letters, digits, and whitespace characters in the file\n",
    "\n",
    "def count_characters(file_path):\n",
    "    try:\n",
    "        # Open the file in read mode\n",
    "        with open(file_path, 'r') as file:\n",
    "            # Read the contents of the file\n",
    "            contents = file.read()\n",
    "\n",
    "            # Initialize the counters\n",
    "            uppercase_count = 0\n",
    "            lowercase_count = 0\n",
    "            digit_count = 0\n",
    "            whitespace_count = 0\n",
    "\n",
    "            # Iterate through each character in the contents\n",
    "            for char in contents:\n",
    "                # Check if the character is uppercase\n",
    "                if char.isupper():\n",
    "                    uppercase_count += 1\n",
    "                # Check if the character is lowercase\n",
    "                elif char.islower():\n",
    "                    lowercase_count += 1\n",
    "                # Check if the character is a digit\n",
    "                elif char.isdigit():\n",
    "                    digit_count += 1\n",
    "                # Check if the character is whitespace\n",
    "                elif char.isspace():\n",
    "                    whitespace_count += 1\n",
    "\n",
    "            return uppercase_count, lowercase_count, digit_count, whitespace_count\n",
    "\n",
    "    except FileNotFoundError:\n",
    "        print(\"File not found. Please check the file path and try again.\")\n",
    "        return None\n",
    "    \n",
    "def main():\n",
    "    file_path = \"text.txt\" # Path to the file\n",
    "\n",
    "    # Count the characters in the file\n",
    "    counts = count_characters(file_path)\n",
    "\n",
    "    if counts is not None:\n",
    "        # Unpack the counts\n",
    "        uppercase_count, lowercase_count, digit_count, whitespace_count = counts\n",
    "\n",
    "        # Print the counts\n",
    "        print(\"Uppercase letters:\", uppercase_count)\n",
    "        print(\"Lowercase letters:\", lowercase_count)\n",
    "        print(\"Digits:\", digit_count)\n",
    "        print(\"Whitespace characters:\", whitespace_count)\n",
    "\n",
    "if __name__ == \"__main__\":\n",
    "    main()\n",
    "    "
   ]
  },
  {
   "cell_type": "code",
   "execution_count": null,
   "metadata": {},
   "outputs": [],
   "source": []
  }
 ],
 "metadata": {
  "kernelspec": {
   "display_name": "Python 3",
   "language": "python",
   "name": "python3"
  },
  "language_info": {
   "codemirror_mode": {
    "name": "ipython",
    "version": 3
   },
   "file_extension": ".py",
   "mimetype": "text/x-python",
   "name": "python",
   "nbconvert_exporter": "python",
   "pygments_lexer": "ipython3",
   "version": "3.12.1"
  }
 },
 "nbformat": 4,
 "nbformat_minor": 2
}
