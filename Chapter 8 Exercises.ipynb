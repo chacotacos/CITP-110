{
 "cells": [
  {
   "cell_type": "markdown",
   "metadata": {},
   "source": [
    "## Chapter 8 Exercises"
   ]
  },
  {
   "cell_type": "markdown",
   "metadata": {},
   "source": [
    "## Algorithim Workbench\n",
    "\n",
    "### Question 1\n",
    "Assume `choice` references a string. The following if statement determines whether is equal to ‘Y’ or ‘y’: Rewrite this statement so it only makes one comparison, and does not use the  or operator"
   ]
  },
  {
   "cell_type": "markdown",
   "metadata": {},
   "source": [
    "This code will take a \"Y\" and convert it to lowercase before proceeding."
   ]
  },
  {
   "cell_type": "code",
   "execution_count": 1,
   "metadata": {},
   "outputs": [
    {
     "ename": "NameError",
     "evalue": "name 'choice' is not defined",
     "output_type": "error",
     "traceback": [
      "\u001b[0;31m---------------------------------------------------------------------------\u001b[0m",
      "\u001b[0;31mNameError\u001b[0m                                 Traceback (most recent call last)",
      "Cell \u001b[0;32mIn[1], line 10\u001b[0m\n\u001b[1;32m      7\u001b[0m         \u001b[38;5;28;01mpass\u001b[39;00m\n\u001b[1;32m      9\u001b[0m \u001b[38;5;28;01mif\u001b[39;00m \u001b[38;5;18m__name__\u001b[39m \u001b[38;5;241m==\u001b[39m \u001b[38;5;124m\"\u001b[39m\u001b[38;5;124m__main__\u001b[39m\u001b[38;5;124m\"\u001b[39m:\n\u001b[0;32m---> 10\u001b[0m     \u001b[43mmain\u001b[49m\u001b[43m(\u001b[49m\u001b[43m)\u001b[49m\n",
      "Cell \u001b[0;32mIn[1], line 5\u001b[0m, in \u001b[0;36mmain\u001b[0;34m()\u001b[0m\n\u001b[1;32m      4\u001b[0m \u001b[38;5;28;01mdef\u001b[39;00m \u001b[38;5;21mmain\u001b[39m():\n\u001b[0;32m----> 5\u001b[0m     \u001b[38;5;28;01mif\u001b[39;00m \u001b[43mchoice\u001b[49m\u001b[38;5;241m.\u001b[39mlower() \u001b[38;5;241m==\u001b[39m \u001b[38;5;124m'\u001b[39m\u001b[38;5;124my\u001b[39m\u001b[38;5;124m'\u001b[39m:\n\u001b[1;32m      7\u001b[0m         \u001b[38;5;28;01mpass\u001b[39;00m\n",
      "\u001b[0;31mNameError\u001b[0m: name 'choice' is not defined"
     ]
    }
   ],
   "source": [
    "# Code block if choice is 'Y' or 'y' \n",
    "# This will execute if choice is either 'Y' or 'y'\n",
    "\n",
    "def main():\n",
    "    if choice.lower() == 'y':\n",
    "        \n",
    "        pass\n",
    "\n",
    "if __name__ == \"__main__\":\n",
    "    main()\n"
   ]
  },
  {
   "cell_type": "markdown",
   "metadata": {},
   "source": [
    "### Question 2\n",
    "Write a loop that counts the number of space characters that appear in the string referenced by `mystring`."
   ]
  },
  {
   "cell_type": "markdown",
   "metadata": {},
   "source": [
    "It is always a learning experience with indentions and what needs to go inside the functions."
   ]
  },
  {
   "cell_type": "code",
   "execution_count": 6,
   "metadata": {},
   "outputs": [
    {
     "name": "stdout",
     "output_type": "stream",
     "text": [
      "5\n"
     ]
    }
   ],
   "source": [
    "def main():\n",
    "    # Set up `mystring`\n",
    "    mystring = \"Professor Adam has the coolest hats.\"\n",
    "\n",
    "    space_count= 0 # Initialize the space counter\n",
    "\n",
    "\n",
    "    for char in mystring:\n",
    "        if char == \" \": # Check if the character is a space\n",
    "            space_count += 1 # Increment the space counter\n",
    "    print(space_count) # Print the space counter\n",
    "\n",
    "main()\n"
   ]
  },
  {
   "cell_type": "markdown",
   "metadata": {},
   "source": [
    "## Proggraming Exercises."
   ]
  },
  {
   "cell_type": "markdown",
   "metadata": {},
   "source": [
    "### Question 1. Initials\n",
    "Write a program that gets a string containing a person’s first, middle, and last names, and displays their first, middle, and last initials. For example, if the user enters John William Smith, the program should display J. W. S.\n",
    "\n",
    "It needs to get first, middle, and last initials from a full name string. It should return a tuple containing the initials. It took a little work to figure out how to get the initials lined up with the `\".\"`"
   ]
  },
  {
   "cell_type": "code",
   "execution_count": 15,
   "metadata": {},
   "outputs": [
    {
     "name": "stdout",
     "output_type": "stream",
     "text": [
      "J. W. S.\n"
     ]
    }
   ],
   "source": [
    "def get_initials(fullname):\n",
    "    \n",
    "    # Split the full name into first, middle, and last names\n",
    "    names = fullname.split()\n",
    "\n",
    "    # Extract the first character of each name to get the initials\n",
    "    first_initial = names[0][0] # Get the first character of the first name\n",
    "    middle_initial = names[1][0] # Get the first character of the middle name\n",
    "    last_initial = names[2][0] # Get the first character of the last name\n",
    "\n",
    "    return first_initial + middle_initial + last_initial # Concatenate the initials\n",
    "\n",
    "def main():\n",
    "    # Get the full name from the user\n",
    "    fullname = input(\"Enter your full name: \")\n",
    "\n",
    "    # Get the initials\n",
    "    first_initial, middle_initial, last_initial = get_initials(fullname)\n",
    "\n",
    "    # Print the initials\n",
    "    print(first_initial + \".\" , middle_initial + \".\", last_initial + \".\")\n",
    "  \n",
    "if __name__ == \"__main__\":\n",
    "    main()"
   ]
  },
  {
   "cell_type": "markdown",
   "metadata": {},
   "source": [
    "### Question 2. Sum of Digits in a String\n",
    "Write a program that asks the user to enter a series of single-digit numbers with nothing separating them. The program should display the sum of all the single digit numbers in the string. For example, if the user enters 2514, the method should return 12, which is the sum of 2, 5, 1, and 4.\n",
    "\n",
    "This program will prompt the user to enter a series of numbers. Convert them to an interger and add them to the total sum. Finally displaying the result to the user.\n"
   ]
  },
  {
   "cell_type": "code",
   "execution_count": null,
   "metadata": {},
   "outputs": [],
   "source": [
    "# Sum of digits in a string\n",
    "def sum_digits(s):\n",
    "    sum = 0 # Initialize the sum to 0\n",
    "    # Iterate through each character in the string\n",
    "    for char in s:\n",
    "        # Check if the character is a digit\n",
    "        if char.isdigit():\n",
    "            # If the character is a digit, add it to the sum\n",
    "            sum += int(char)\n",
    "    return sum\n"
   ]
  }
 ],
 "metadata": {
  "kernelspec": {
   "display_name": "Python 3",
   "language": "python",
   "name": "python3"
  },
  "language_info": {
   "codemirror_mode": {
    "name": "ipython",
    "version": 3
   },
   "file_extension": ".py",
   "mimetype": "text/x-python",
   "name": "python",
   "nbconvert_exporter": "python",
   "pygments_lexer": "ipython3",
   "version": "3.12.1"
  }
 },
 "nbformat": 4,
 "nbformat_minor": 2
}
