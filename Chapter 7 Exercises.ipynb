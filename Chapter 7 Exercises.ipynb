{
 "cells": [
  {
   "cell_type": "markdown",
   "metadata": {},
   "source": [
    "## Algorithim Workbench"
   ]
  },
  {
   "cell_type": "markdown",
   "metadata": {},
   "source": [
    "### Question 1:\n",
    "Write a statement that creates a list with the following strings: `Einstein`, `Newton`, `Copernicus`, and `Kepler`."
   ]
  },
  {
   "cell_type": "markdown",
   "metadata": {},
   "source": [
    "I chose this simply because I am hoping to expand on it in the next problem."
   ]
  },
  {
   "cell_type": "code",
   "execution_count": 5,
   "metadata": {},
   "outputs": [
    {
     "name": "stdout",
     "output_type": "stream",
     "text": [
      "['Einstein', 'Newton', 'Copernicus', 'Kepler']\n"
     ]
    }
   ],
   "source": [
    "# the list of the names of the scientists\n",
    "my_list = [\"Einstein\", \"Newton\", \"Copernicus\", \"Kepler\"]\n",
    "\n",
    "# print the list\n",
    "print(my_list)\n"
   ]
  },
  {
   "cell_type": "markdown",
   "metadata": {},
   "source": [
    "### Question 2\n",
    "Assume names references a list. Write a for loop that displays each element of the list\n",
    "\n",
    "This code iterates over each element in the names list. In each iteration, the current element is assigned to the variable name. Then, the print(name) statement displays the value of name."
   ]
  },
  {
   "cell_type": "code",
   "execution_count": 6,
   "metadata": {},
   "outputs": [
    {
     "name": "stdout",
     "output_type": "stream",
     "text": [
      "Einstein\n",
      "Newton\n",
      "Copernicus\n",
      "Kepler\n"
     ]
    }
   ],
   "source": [
    "def main():\n",
    "    # the list of the names of the scientists\n",
    "    names = [\"Einstein\", \"Newton\", \"Copernicus\", \"Kepler\"]\n",
    "    # use  a for loop to print the list\n",
    "    for name in names:\n",
    "        print(name)\n",
    "main()\n"
   ]
  },
  {
   "cell_type": "markdown",
   "metadata": {},
   "source": [
    "## Programming Exercises\n"
   ]
  },
  {
   "cell_type": "markdown",
   "metadata": {},
   "source": [
    "### 1. Total Sales\n",
    "Design a program that asks the user to enter a store’s sales for each day of the week. The amounts should be stored in a list. Use a loop to calculate the total sales for the week and display the result."
   ]
  },
  {
   "cell_type": "markdown",
   "metadata": {},
   "source": [
    "This program prompts the user to enter the sales for each day of the week using a loop. It stores these sales amounts in a list called sales. Then, it calculates the total sales for the week by summing up the elements of the sales list. Finally, it prints out the total sales for the week."
   ]
  },
  {
   "cell_type": "code",
   "execution_count": 12,
   "metadata": {},
   "outputs": [
    {
     "name": "stdout",
     "output_type": "stream",
     "text": [
      "The total sales for the week is $28.00.\n"
     ]
    }
   ],
   "source": [
    "def main():\n",
    "    # Initialize an empty list to store daily sales\n",
    "    sales = []\n",
    "\n",
    "    # Get the sales for each day of the week\n",
    "    for day in range(1, 8):\n",
    "        daily_sales = float(input (f\"Enter the sales for day {day}: $ \"))\n",
    "        sales.append(daily_sales)\n",
    "\n",
    "    # Calculate the total sales for the week\n",
    "        total_sales = sum(sales)\n",
    "\n",
    "    # Display the total sales for the week\n",
    "    print(f\"The total sales for the week is ${total_sales:,.2f}.\")\n",
    "\n",
    "if __name__ == \"__main__\":\n",
    "    main()    "
   ]
  },
  {
   "cell_type": "code",
   "execution_count": null,
   "metadata": {},
   "outputs": [],
   "source": []
  }
 ],
 "metadata": {
  "kernelspec": {
   "display_name": "Python 3",
   "language": "python",
   "name": "python3"
  },
  "language_info": {
   "codemirror_mode": {
    "name": "ipython",
    "version": 3
   },
   "file_extension": ".py",
   "mimetype": "text/x-python",
   "name": "python",
   "nbconvert_exporter": "python",
   "pygments_lexer": "ipython3",
   "version": "3.12.1"
  }
 },
 "nbformat": 4,
 "nbformat_minor": 2
}
