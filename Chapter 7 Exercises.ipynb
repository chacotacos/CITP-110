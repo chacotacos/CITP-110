{
 "cells": [
  {
   "cell_type": "markdown",
   "metadata": {},
   "source": [
    "## Algorithim Workbench"
   ]
  },
  {
   "cell_type": "markdown",
   "metadata": {},
   "source": [
    "### Question 1:\n",
    "Write a statement that creates a list with the following strings: `Einstein`, `Newton`, `Copernicus`, and `Kepler`."
   ]
  },
  {
   "cell_type": "markdown",
   "metadata": {},
   "source": [
    "I chose this simply because I am hoping to expand on it in the next problem."
   ]
  },
  {
   "cell_type": "code",
   "execution_count": 5,
   "metadata": {},
   "outputs": [
    {
     "name": "stdout",
     "output_type": "stream",
     "text": [
      "['Einstein', 'Newton', 'Copernicus', 'Kepler']\n"
     ]
    }
   ],
   "source": [
    "# the list of the names of the scientists\n",
    "my_list = [\"Einstein\", \"Newton\", \"Copernicus\", \"Kepler\"]\n",
    "\n",
    "# print the list\n",
    "print(my_list)\n"
   ]
  },
  {
   "cell_type": "markdown",
   "metadata": {},
   "source": [
    "### Question 2\n",
    "Assume names references a list. Write a for loop that displays each element of the list\n",
    "\n",
    "This code iterates over each element in the names list. In each iteration, the current element is assigned to the variable name. Then, the print(name) statement displays the value of name."
   ]
  },
  {
   "cell_type": "code",
   "execution_count": 6,
   "metadata": {},
   "outputs": [
    {
     "name": "stdout",
     "output_type": "stream",
     "text": [
      "Einstein\n",
      "Newton\n",
      "Copernicus\n",
      "Kepler\n"
     ]
    }
   ],
   "source": [
    "def main():\n",
    "    # the list of the names of the scientists\n",
    "    names = [\"Einstein\", \"Newton\", \"Copernicus\", \"Kepler\"]\n",
    "    # use  a for loop to print the list\n",
    "    for name in names:\n",
    "        print(name)\n",
    "main()\n"
   ]
  },
  {
   "cell_type": "markdown",
   "metadata": {},
   "source": [
    "## Programming Exercises\n"
   ]
  },
  {
   "cell_type": "markdown",
   "metadata": {},
   "source": [
    "### 1. Total Sales\n",
    "Design a program that asks the user to enter a store’s sales for each day of the week. The amounts should be stored in a list. Use a loop to calculate the total sales for the week and display the result."
   ]
  },
  {
   "cell_type": "markdown",
   "metadata": {},
   "source": [
    "This program prompts the user to enter the sales for each day of the week using a loop. It stores these sales amounts in a list called sales. Then, it calculates the total sales for the week by summing up the elements of the sales list. Finally, it prints out the total sales for the week."
   ]
  },
  {
   "cell_type": "code",
   "execution_count": 12,
   "metadata": {},
   "outputs": [
    {
     "name": "stdout",
     "output_type": "stream",
     "text": [
      "The total sales for the week is $28.00.\n"
     ]
    }
   ],
   "source": [
    "def main():\n",
    "    # Initialize an empty list to store daily sales\n",
    "    sales = []\n",
    "\n",
    "    # Get the sales for each day of the week\n",
    "    for day in range(1, 8):\n",
    "        daily_sales = float(input (f\"Enter the sales for day {day}: $ \"))\n",
    "        sales.append(daily_sales)\n",
    "\n",
    "    # Calculate the total sales for the week\n",
    "        total_sales = sum(sales)\n",
    "\n",
    "    # Display the total sales for the week\n",
    "    print(f\"The total sales for the week is ${total_sales:,.2f}.\")\n",
    "\n",
    "if __name__ == \"__main__\":\n",
    "    main()    "
   ]
  },
  {
   "cell_type": "markdown",
   "metadata": {},
   "source": [
    "### Question 14 Expense Pie Chart "
   ]
  },
  {
   "cell_type": "markdown",
   "metadata": {},
   "source": [
    "This question asks us to input our expenses and then create a pie chart using matplotlab."
   ]
  },
  {
   "cell_type": "code",
   "execution_count": 26,
   "metadata": {},
   "outputs": [
    {
     "ename": "ModuleNotFoundError",
     "evalue": "No module named 'matplotlib'",
     "output_type": "error",
     "traceback": [
      "\u001b[0;31m---------------------------------------------------------------------------\u001b[0m",
      "\u001b[0;31mModuleNotFoundError\u001b[0m                       Traceback (most recent call last)",
      "Cell \u001b[0;32mIn[26], line 1\u001b[0m\n\u001b[0;32m----> 1\u001b[0m \u001b[38;5;28;01mimport\u001b[39;00m \u001b[38;5;21;01mmatplotlib\u001b[39;00m\u001b[38;5;21;01m.\u001b[39;00m\u001b[38;5;21;01mpyplot\u001b[39;00m \u001b[38;5;28;01mas\u001b[39;00m \u001b[38;5;21;01mplt\u001b[39;00m\n\u001b[1;32m      3\u001b[0m \u001b[38;5;28;01mdef\u001b[39;00m \u001b[38;5;21mget_expenses\u001b[39m():\n\u001b[1;32m      4\u001b[0m     expenses \u001b[38;5;241m=\u001b[39m {}\n",
      "\u001b[0;31mModuleNotFoundError\u001b[0m: No module named 'matplotlib'"
     ]
    }
   ],
   "source": [
    "import matplotlib.pyplot as plt\n",
    "\n",
    "def get_expenses():\n",
    "    expenses = {}\n",
    "    categories = [\"Rent\", \"Gas\", \"Food\", \"Clothing\", \"Car payment\", \"Misc\"]\n",
    "    for category in categories:\n",
    "        amount = float(input(f\"Enter the expenses for {category}: $ \"))\n",
    "        expenses[category] = amount\n",
    "    return expenses\n",
    "\n",
    "def write_expenses_to_file(expenses):\n",
    "    with open(\"expenses.txt\", \"w\") as file:\n",
    "        for category, amount in expenses.items():\n",
    "            file.write(f\"{category}: {amount}\\n\")\n",
    "\n",
    "def read_expenses_from_file():\n",
    "    expenses = {}\n",
    "    with open(\"expenses.txt\", \"r\") as file:\n",
    "        for line in file:\n",
    "            category, amount = line.strip().split(\": \")\n",
    "            expenses[category] = float(amount)\n",
    "    return expenses\n",
    "\n",
    "def display_expenses(expenses):\n",
    "    labels = expenses.keys()\n",
    "    sizes = expenses.values()\n",
    "    plt.pie(sizes, labels=labels, autopct=\"%1.1f%%\")\n",
    "    plt.show()  \n",
    "\n",
    "def main():\n",
    "    expenses = get_expenses()\n",
    "    write_expenses_to_file(expenses)\n",
    "    expenses = read_expenses_from_file()\n",
    "    display_expenses(expenses)\n",
    "\n",
    "if __name__ == \"__main__\":\n",
    "    main()\n"
   ]
  },
  {
   "cell_type": "markdown",
   "metadata": {},
   "source": [
    "I can't satisfy the `import matplotlib` requirement. ran the code through chatgpt and it fixed a problem with `read_expenses` and I still can't the program to run... I'm hoping for feedback."
   ]
  },
  {
   "cell_type": "markdown",
   "metadata": {},
   "source": [
    "### Question 2. Lottery Number Generator"
   ]
  },
  {
   "cell_type": "markdown",
   "metadata": {},
   "source": [
    "Design a program that generates a seven-digit lottery number. The program should generate seven random numbers, each in the range of 0 through 9, and assign each number to a list element. (Random numbers were discussed in Chapter 5.) Then write another loop that displays the contents of the list."
   ]
  },
  {
   "cell_type": "code",
   "execution_count": null,
   "metadata": {},
   "outputs": [],
   "source": [
    "import random\n",
    "\n",
    "# Function to generate a seven-digit lottery number\n",
    "def generate_lottery_number():\n",
    "    # Initialize an empty list to store the lottery number digits\n",
    "    lottery_number = []\n",
    "\n"
   ]
  }
 ],
 "metadata": {
  "kernelspec": {
   "display_name": "Python 3",
   "language": "python",
   "name": "python3"
  },
  "language_info": {
   "codemirror_mode": {
    "name": "ipython",
    "version": 3
   },
   "file_extension": ".py",
   "mimetype": "text/x-python",
   "name": "python",
   "nbconvert_exporter": "python",
   "pygments_lexer": "ipython3",
   "version": "3.12.1"
  }
 },
 "nbformat": 4,
 "nbformat_minor": 2
}
