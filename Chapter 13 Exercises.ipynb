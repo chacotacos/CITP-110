{
 "cells": [
  {
   "cell_type": "markdown",
   "metadata": {},
   "source": [
    "# Chapter 13 Programming Exercises"
   ]
  },
  {
   "cell_type": "markdown",
   "metadata": {},
   "source": [
    "### Question 3, Miles Per Gallon Calculator"
   ]
  },
  {
   "cell_type": "code",
   "execution_count": 2,
   "metadata": {},
   "outputs": [],
   "source": [
    "import tkinter as tk\n",
    "\n",
    "# This is a GUI program that calculates miles per gallon.\n",
    "\n",
    "def claculate_mpg():\n",
    "    try:\n",
    "        gallons = float(gallons_entry.get())\n",
    "        miles = float(miles_entry.get())\n",
    "        if gallons <= 0 or miles <= 0:\n",
    "            result_label>config(text=\"Please enter a positive number.\" )\n",
    "        else:\n",
    "            mpg = miles / gallons\n",
    "            result_label.config(text=f\"{mpg:.2f} miles per gallon.\")\n",
    "    except ValueError:\n",
    "        result_label.config(text=\"Please enter a valid number.\")\n",
    "    \n",
    "\n",
    "    # Create the main window\n",
    "    root = tk.Tk()\n",
    "    root.title(\"Gas Mileage Calculator\")\n",
    "\n",
    "    # Create the input widgets\n",
    "    gallons_label = tk.Label(root, text=\"Gallons of gas:\")\n",
    "    gallons_label.grid(row=0, column=0, padx=5, pady=5)\n",
    "    gallons_entry = tk.Entry(root)\n",
    "    gallons_entry.grid(row=0, column=1, padx=5, pady=5)\n",
    "\n",
    "    \n"
   ]
  }
 ],
 "metadata": {
  "kernelspec": {
   "display_name": "Python 3",
   "language": "python",
   "name": "python3"
  },
  "language_info": {
   "codemirror_mode": {
    "name": "ipython",
    "version": 3
   },
   "file_extension": ".py",
   "mimetype": "text/x-python",
   "name": "python",
   "nbconvert_exporter": "python",
   "pygments_lexer": "ipython3",
   "version": "3.12.1"
  }
 },
 "nbformat": 4,
 "nbformat_minor": 2
}
