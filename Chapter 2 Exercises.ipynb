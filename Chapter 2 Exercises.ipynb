{
 "cells": [
  {
   "cell_type": "markdown",
   "id": "d32fac89",
   "metadata": {},
   "source": [
    "# Chapter 2 Exercises"
   ]
  },
  {
   "cell_type": "markdown",
   "id": "8ab00f3e",
   "metadata": {},
   "source": [
    "## Algorithim Workbench\n",
    "\n",
    "Write Python code that prompts the user to enter his or her favorite color and assigns the user’s input to a variable named color.  \n",
    "From 2.6 variable = input(prompt)\n",
    "\n",
    "Not sure if this will work. "
   ]
  },
  {
   "cell_type": "code",
   "execution_count": 2,
   "id": "f033b4e7",
   "metadata": {},
   "outputs": [
    {
     "name": "stdout",
     "output_type": "stream",
     "text": [
      "What is your favorite color? \n"
     ]
    }
   ],
   "source": [
    "color = input('What is your favorite color? ')"
   ]
  },
  {
   "cell_type": "markdown",
   "id": "7e5a42bd",
   "metadata": {},
   "source": [
    "It actually worked."
   ]
  },
  {
   "cell_type": "markdown",
   "id": "c20aaa3a",
   "metadata": {},
   "source": [
    "## Programming Exercise 1 \"Personal Information\"\n",
    "\n",
    "The problem asks \"Write a program that displays the following information for a student:  Name, Address with city, state, and ZIP, Telephone number, College major\n",
    "\n",
    "I'm sure that fstrings is what I need to do\n"
   ]
  },
  {
   "cell_type": "code",
   "execution_count": 16,
   "id": "cb12aa71",
   "metadata": {},
   "outputs": [
    {
     "name": "stdout",
     "output_type": "stream",
     "text": [
      "Hello Cameron Calero, address: 2045 Heliport Loop, Riverfolk, IN 43286, Tel: 812-555-1212, Major: Cyber Security\n"
     ]
    }
   ],
   "source": [
    "name = 'Cameron Calero'\n",
    "address = '2045 Heliport Loop, Riverfolk, IN 43286'\n",
    "tel = '812-555-1212'\n",
    "major = 'Cyber Security'\n",
    "print(f'Hello {name}, ' +\n",
    "      f'address: {address}, ' +\n",
    "      f'Tel: {tel}, ' +\n",
    "      f'Major: {major}')\n"
   ]
  },
  {
   "cell_type": "markdown",
   "id": "a244360f",
   "metadata": {},
   "source": [
    "It took some fiddling with formatting. But using 2.10 I was able to work through."
   ]
  },
  {
   "cell_type": "markdown",
   "id": "84b2b01f",
   "metadata": {},
   "source": [
    "## Planting Grapevines"
   ]
  },
  {
   "cell_type": "markdown",
   "id": "f5ff4ce5",
   "metadata": {},
   "source": [
    "V = R - 2E / S\n",
    "\n",
    "V is the number of grapevines that will fit in the row.\n",
    "\n",
    "R is the length of the row, in feet.\n",
    "\n",
    "E is the amount of space, in feet, used by an end-post assembly.\n",
    "\n",
    "S is the space between vines, in feet.\n"
   ]
  },
  {
   "cell_type": "code",
   "execution_count": 2,
   "id": "06197457",
   "metadata": {},
   "outputs": [
    {
     "name": "stdout",
     "output_type": "stream",
     "text": [
      "Enter the length of the row, in feet? 1200\n",
      "The amount of space for end-post, in feet? 5\n",
      "The amount of space between vines, in feet? 6\n",
      "The number of vines that will fit in a row =  198.33333333333334\n"
     ]
    }
   ],
   "source": [
    "#Get the number of grapevines that will fit in a row\n",
    "R = float(input('Enter the length of the row, in feet? '))\n",
    "#The amount of space needed for the end post\n",
    "E = float(input('The amount of space for end-post, in feet? '))\n",
    "#Space between vines\n",
    "S = float(input('The amount of space between vines, in feet? '))\n",
    "\n",
    "#The formula\n",
    "\n",
    "V = (R - (2 * E))/ S\n",
    "\n",
    "print('The number of vines that will fit in a row = ', V)"
   ]
  },
  {
   "cell_type": "markdown",
   "id": "ea756ea4",
   "metadata": {},
   "source": [
    "It is not displaying the answer. Restarted the kernel and it worked"
   ]
  },
  {
   "cell_type": "code",
   "execution_count": null,
   "id": "b6ebe9cd",
   "metadata": {},
   "outputs": [],
   "source": []
  }
 ],
 "metadata": {
  "kernelspec": {
   "display_name": "Python 3 (ipykernel)",
   "language": "python",
   "name": "python3"
  },
  "language_info": {
   "codemirror_mode": {
    "name": "ipython",
    "version": 3
   },
   "file_extension": ".py",
   "mimetype": "text/x-python",
   "name": "python",
   "nbconvert_exporter": "python",
   "pygments_lexer": "ipython3",
   "version": "3.11.5"
  }
 },
 "nbformat": 4,
 "nbformat_minor": 5
}
