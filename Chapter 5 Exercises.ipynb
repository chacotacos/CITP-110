{
 "cells": [
  {
   "cell_type": "markdown",
   "id": "8fa8fe12",
   "metadata": {},
   "source": [
    "# Algorithim Workbench\n",
    "\n",
    "Any 2 problems"
   ]
  },
  {
   "cell_type": "markdown",
   "id": "77ce804c",
   "metadata": {},
   "source": [
    "## Question 1: \n",
    "Write a python function named times_ten. The function should accept an argument and display the product of its argument multiplied times 10"
   ]
  },
  {
   "cell_type": "markdown",
   "id": "9eafe9ce",
   "metadata": {},
   "source": [
    "I chose this because it seemed simple and I remembered seeing a problem like this in the reading."
   ]
  },
  {
   "cell_type": "code",
   "execution_count": 1,
   "id": "d4b05234",
   "metadata": {},
   "outputs": [
    {
     "ename": "SyntaxError",
     "evalue": "unterminated string literal (detected at line 5) (3676687574.py, line 5)",
     "output_type": "error",
     "traceback": [
      "\u001b[0;36m  Cell \u001b[0;32mIn[1], line 5\u001b[0;36m\u001b[0m\n\u001b[0;31m    print(\"The result of\"\", num, \"times 10 is\", result)\u001b[0m\n\u001b[0m                                             ^\u001b[0m\n\u001b[0;31mSyntaxError\u001b[0m\u001b[0;31m:\u001b[0m unterminated string literal (detected at line 5)\n"
     ]
    }
   ],
   "source": [
    "# define a function that takes a number as an argument and returns the number times 10\n",
    "\n",
    "def times_ten(num):\n",
    "    result = num * 10\n",
    "    print(\"The result of\"\", num, \"times 10 is\", result)\n",
    "\n"
   ]
  },
  {
   "cell_type": "code",
   "execution_count": null,
   "id": "2c9eb4c5",
   "metadata": {},
   "outputs": [],
   "source": []
  }
 ],
 "metadata": {
  "kernelspec": {
   "display_name": "Python 3",
   "language": "python",
   "name": "python3"
  },
  "language_info": {
   "codemirror_mode": {
    "name": "ipython",
    "version": 3
   },
   "file_extension": ".py",
   "mimetype": "text/x-python",
   "name": "python",
   "nbconvert_exporter": "python",
   "pygments_lexer": "ipython3",
   "version": "3.12.1"
  }
 },
 "nbformat": 4,
 "nbformat_minor": 5
}
