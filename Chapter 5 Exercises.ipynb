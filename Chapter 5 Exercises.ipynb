{
 "cells": [
  {
   "cell_type": "markdown",
   "id": "8fa8fe12",
   "metadata": {},
   "source": [
    "# Algorithim Workbench\n",
    "\n",
    "Any 2 problems"
   ]
  },
  {
   "cell_type": "markdown",
   "id": "77ce804c",
   "metadata": {},
   "source": [
    "## Question 1: \n",
    "Write a python function named times_ten. The function should accept an argument and display the product of its argument multiplied times 10"
   ]
  },
  {
   "cell_type": "markdown",
   "id": "9eafe9ce",
   "metadata": {},
   "source": [
    "I chose this because it seemed simple and I remembered seeing a problem like this in the reading."
   ]
  },
  {
   "cell_type": "code",
   "execution_count": 1,
   "id": "d4b05234",
   "metadata": {},
   "outputs": [
    {
     "ename": "SyntaxError",
     "evalue": "unterminated string literal (detected at line 5) (63677744.py, line 5)",
     "output_type": "error",
     "traceback": [
      "\u001b[0;36m  Cell \u001b[0;32mIn[1], line 5\u001b[0;36m\u001b[0m\n\u001b[0;31m    print(\"The result of\"\", num, \"times 10 is\", result)\u001b[0m\n\u001b[0m                                             ^\u001b[0m\n\u001b[0;31mSyntaxError\u001b[0m\u001b[0;31m:\u001b[0m unterminated string literal (detected at line 5)\n"
     ]
    }
   ],
   "source": [
    "# define a function that takes a number as an argument and returns the number times 10\n",
    "\n",
    "def times_ten(num):\n",
    "    result = num * 10\n",
    "    print(\"The result of\"\", num, \"times 10 is\", result)\n",
    "\n"
   ]
  },
  {
   "cell_type": "code",
   "execution_count": 10,
   "id": "e8cafb3b",
   "metadata": {},
   "outputs": [
    {
     "ename": "IndentationError",
     "evalue": "unindent does not match any outer indentation level (<string>, line 8)",
     "output_type": "error",
     "traceback": [
      "\u001b[0;36m  File \u001b[0;32m<string>:8\u001b[0;36m\u001b[0m\n\u001b[0;31m    times_ten(5)\u001b[0m\n\u001b[0m                ^\u001b[0m\n\u001b[0;31mIndentationError\u001b[0m\u001b[0;31m:\u001b[0m unindent does not match any outer indentation level\n"
     ]
    }
   ],
   "source": [
    "# define a function that takes a number as an argument and returns the number times 10\n",
    "\n",
    "def times_ten(num):\n",
    "    result = num * 10\n",
    "    print(\"The result of\", num, \"times 10 is:\", result)\n",
    "\n",
    "# multiply \n",
    " times_ten(5)"
   ]
  },
  {
   "cell_type": "code",
   "execution_count": 11,
   "id": "545aa923",
   "metadata": {},
   "outputs": [
    {
     "name": "stdout",
     "output_type": "stream",
     "text": [
      "The result of 5 times 10 is: 50\n"
     ]
    }
   ],
   "source": [
    "# define a function that takes a number as an argument and returns the number times 10\n",
    "\n",
    "def times_ten(num):\n",
    "    result = num * 10\n",
    "    print(\"The result of\", num, \"times 10 is:\", result)\n",
    "\n",
    "# multiply \n",
    "times_ten(5)"
   ]
  },
  {
   "cell_type": "markdown",
   "id": "2c9eb4c5",
   "metadata": {},
   "source": [
    "I had to work through a couple of small typos and indents. But the code works."
   ]
  },
  {
   "cell_type": "markdown",
   "id": "3dee0a06",
   "metadata": {},
   "source": [
    "## Question 10\n",
    "Write a function named get_first_name  that asks the user to enter his or her first name, and returns it."
   ]
  },
  {
   "cell_type": "markdown",
   "id": "82ad8dfd",
   "metadata": {},
   "source": [
    "This is a simple get a name. I threw in print function to show the variable."
   ]
  },
  {
   "cell_type": "code",
   "execution_count": 15,
   "id": "9fc47e2d",
   "metadata": {},
   "outputs": [
    {
     "name": "stdout",
     "output_type": "stream",
     "text": [
      "Hello, Justin !\n"
     ]
    }
   ],
   "source": [
    "def get_first_name():\n",
    "    first_name = input(\"Please enter your first name: \")\n",
    "    return first_name\n",
    "\n",
    "# Call the function and store the returned value in a variable\n",
    "name = get_first_name()\n",
    "\n",
    "# Print the greeting using the returned value\n",
    "print(\"Hello,\", name, \"!\")\n"
   ]
  }
 ],
 "metadata": {
  "kernelspec": {
   "display_name": "Python 3",
   "language": "python",
   "name": "python3"
  },
  "language_info": {
   "codemirror_mode": {
    "name": "ipython",
    "version": 3
   },
   "file_extension": ".py",
   "mimetype": "text/x-python",
   "name": "python",
   "nbconvert_exporter": "python",
   "pygments_lexer": "ipython3",
   "version": "3.12.1"
  }
 },
 "nbformat": 4,
 "nbformat_minor": 5
}
