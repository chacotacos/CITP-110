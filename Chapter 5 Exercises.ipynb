{
 "cells": [
  {
   "cell_type": "markdown",
   "id": "8fa8fe12",
   "metadata": {},
   "source": [
    "# Algorithim Workbench\n",
    "\n",
    "Any 2 problems"
   ]
  },
  {
   "cell_type": "markdown",
   "id": "77ce804c",
   "metadata": {},
   "source": [
    "## Question 1: \n",
    "Write a python function named times_ten. The function should accept an argument and display the product of its argument multiplied times 10"
   ]
  },
  {
   "cell_type": "markdown",
   "id": "9eafe9ce",
   "metadata": {},
   "source": [
    "I chose this because it seemed simple and I remembered seeing a problem like this in the reading."
   ]
  },
  {
   "cell_type": "code",
   "execution_count": 18,
   "id": "d4b05234",
   "metadata": {},
   "outputs": [
    {
     "ename": "SyntaxError",
     "evalue": "unterminated string literal (detected at line 5) (63677744.py, line 5)",
     "output_type": "error",
     "traceback": [
      "\u001b[0;36m  Cell \u001b[0;32mIn[18], line 5\u001b[0;36m\u001b[0m\n\u001b[0;31m    print(\"The result of\"\", num, \"times 10 is\", result)\u001b[0m\n\u001b[0m                                             ^\u001b[0m\n\u001b[0;31mSyntaxError\u001b[0m\u001b[0;31m:\u001b[0m unterminated string literal (detected at line 5)\n"
     ]
    }
   ],
   "source": [
    "# define a function that takes a number as an argument and returns the number times 10\n",
    "\n",
    "def times_ten(num):\n",
    "    result = num * 10\n",
    "    print(\"The result of\"\", num, \"times 10 is\", result)\n",
    "\n"
   ]
  },
  {
   "cell_type": "code",
   "execution_count": null,
   "id": "e8cafb3b",
   "metadata": {},
   "outputs": [
    {
     "ename": "IndentationError",
     "evalue": "unindent does not match any outer indentation level (<string>, line 8)",
     "output_type": "error",
     "traceback": [
      "\u001b[0;36m  File \u001b[0;32m<string>:8\u001b[0;36m\u001b[0m\n\u001b[0;31m    times_ten(5)\u001b[0m\n\u001b[0m                ^\u001b[0m\n\u001b[0;31mIndentationError\u001b[0m\u001b[0;31m:\u001b[0m unindent does not match any outer indentation level\n"
     ]
    }
   ],
   "source": [
    "# define a function that takes a number as an argument and returns the number times 10\n",
    "\n",
    "def times_ten(num):\n",
    "    result = num * 10\n",
    "    print(\"The result of\", num, \"times 10 is:\", result)\n",
    "\n",
    "# multiply \n",
    " times_ten(5)"
   ]
  },
  {
   "cell_type": "code",
   "execution_count": null,
   "id": "545aa923",
   "metadata": {},
   "outputs": [
    {
     "name": "stdout",
     "output_type": "stream",
     "text": [
      "The result of 5 times 10 is: 50\n"
     ]
    }
   ],
   "source": [
    "# define a function that takes a number as an argument and returns the number times 10\n",
    "\n",
    "def times_ten(num):\n",
    "    result = num * 10\n",
    "    print(\"The result of\", num, \"times 10 is:\", result)\n",
    "\n",
    "# multiply \n",
    "times_ten(5)"
   ]
  },
  {
   "cell_type": "markdown",
   "id": "2c9eb4c5",
   "metadata": {},
   "source": [
    "I had to work through a couple of small typos and indents. But the code works."
   ]
  },
  {
   "cell_type": "markdown",
   "id": "3dee0a06",
   "metadata": {},
   "source": [
    "## Question 10\n",
    "Write a function named get_first_name  that asks the user to enter his or her first name, and returns it."
   ]
  },
  {
   "cell_type": "markdown",
   "id": "82ad8dfd",
   "metadata": {},
   "source": [
    "This is a simple get a name. I threw in print function to show the variable."
   ]
  },
  {
   "cell_type": "code",
   "execution_count": null,
   "id": "9fc47e2d",
   "metadata": {},
   "outputs": [
    {
     "name": "stdout",
     "output_type": "stream",
     "text": [
      "Hello, Justin !\n"
     ]
    }
   ],
   "source": [
    "def get_first_name():\n",
    "    first_name = input(\"Please enter your first name: \")\n",
    "    return first_name\n",
    "\n",
    "# Call the function and store the returned value in a variable\n",
    "name = get_first_name()\n",
    "\n",
    "# Print the greeting using the returned value\n",
    "print(\"Hello,\", name, \"!\")\n"
   ]
  },
  {
   "cell_type": "markdown",
   "id": "1d23cd12",
   "metadata": {},
   "source": [
    "# Programming Exercises"
   ]
  },
  {
   "cell_type": "markdown",
   "id": "cf63dc65",
   "metadata": {},
   "source": [
    "## Question 1 Kilometer Converter"
   ]
  },
  {
   "cell_type": "markdown",
   "id": "03fab1a7",
   "metadata": {},
   "source": [
    "This program defines a function kilometers_to_miles to convert kilometers to miles and a main function that interacts with the user. When you run the program, it will prompt you to enter a distance in kilometers, and then it will print out the equivalent distance in miles"
   ]
  },
  {
   "cell_type": "code",
   "execution_count": 17,
   "id": "b322c870",
   "metadata": {},
   "outputs": [],
   "source": [
    "# define a function that converts kilometers to miles\n",
    "def kilometers_to_miles(kilometers):\n",
    "    miles = kilometers * 0.6214\n",
    "    return miles\n"
   ]
  },
  {
   "cell_type": "code",
   "execution_count": 21,
   "id": "766ecade",
   "metadata": {},
   "outputs": [
    {
     "name": "stdout",
     "output_type": "stream",
     "text": [
      "The distance in miles is: 80.782\n"
     ]
    }
   ],
   "source": [
    "# define a function that converts kilometers to miles\n",
    "def kilometers_to_miles(kilometers):\n",
    "    miles = kilometers * 0.6214\n",
    "    return miles\n",
    "\n",
    "# define the main function that will call the kilometers_to_miles function\n",
    "def main():\n",
    "    distance_in_km = float(input(\"Please enter a distance in kilometers: \"))\n",
    "    distance_in_miles = kilometers_to_miles(distance_in_km)\n",
    "    print(\"The distance in miles is:\", distance_in_miles)\n",
    "\n",
    "main()\n"
   ]
  },
  {
   "cell_type": "markdown",
   "id": "35f9f9a8",
   "metadata": {},
   "source": [
    "## Prime Numbers\n",
    "\n"
   ]
  },
  {
   "cell_type": "markdown",
   "id": "4d6646c9",
   "metadata": {},
   "source": [
    "Write a Boolean function named  which takes an integer as an argument and returns true if the argument is a prime number, or false otherwise. Use the function in a program that prompts the user to enter a number then displays a message indicating whether the number is prime.\n",
    "\n",
    "This program defines a function is_prime to check if a number is prime or not. Then, it defines a main function to interact with the user. When the program is executed, it prompts the user to enter a number, checks if it's prime using the is_prime function, and prints out the result accordingly."
   ]
  },
  {
   "cell_type": "code",
   "execution_count": 26,
   "id": "a5c17449",
   "metadata": {},
   "outputs": [
    {
     "name": "stdout",
     "output_type": "stream",
     "text": [
      "True\n"
     ]
    }
   ],
   "source": [
    "# is_prime takes an integer num as an argument and returns True if num is a prime number, and False otherwise.\n",
    "def is_prime(num):\n",
    "    if num <= 1:\n",
    "        return False\n",
    "    for i in range(2, num):\n",
    "        if num % i == 0:\n",
    "            return False\n",
    "    return True\n",
    "\n",
    "# Call the function and print the result as either True or False\n",
    "def main():\n",
    "    num = int(input(\"Please enter a number: \"))\n",
    "    print(is_prime(num))\n",
    "\n",
    "main()"
   ]
  },
  {
   "cell_type": "markdown",
   "id": "e11c52da",
   "metadata": {},
   "source": [
    "## Prime Numbers List\n",
    "Write a python program that displays all of the prime numbers from 1 to 100. The program should have a loop that calls the 'is_prime'  function.\n",
    "\n",
    "This program defines a function is_prime(num) to check if a number is prime or not. Then, it loops through numbers from 1 to 100 and calls the is_prime() function on each number. If the function returns True, it prints the number as prime"
   ]
  },
  {
   "cell_type": "code",
   "execution_count": 29,
   "id": "471e30ec",
   "metadata": {},
   "outputs": [
    {
     "ename": "NameError",
     "evalue": "name 'prfint' is not defined",
     "output_type": "error",
     "traceback": [
      "\u001b[0;31m---------------------------------------------------------------------------\u001b[0m",
      "\u001b[0;31mNameError\u001b[0m                                 Traceback (most recent call last)",
      "Cell \u001b[0;32mIn[29], line 11\u001b[0m\n\u001b[1;32m      8\u001b[0m     \u001b[38;5;28;01mreturn\u001b[39;00m \u001b[38;5;28;01mTrue\u001b[39;00m\n\u001b[1;32m     10\u001b[0m \u001b[38;5;66;03m# Loop through the numbers from 1 to 100 and call the is_prime function\u001b[39;00m\n\u001b[0;32m---> 11\u001b[0m \u001b[43mprfint\u001b[49m(\u001b[38;5;124m\"\u001b[39m\u001b[38;5;124mPrime numbers from 1 to 100: \u001b[39m\u001b[38;5;124m\"\u001b[39m)\n",
      "\u001b[0;31mNameError\u001b[0m: name 'prfint' is not defined"
     ]
    }
   ],
   "source": [
    "# This function takes a number num as input and returns True if the number is prime, and False otherwise\n",
    "def is_prime (num)\n",
    "    if num <= 1:\n",
    "        return False\n",
    "    for i in range(2, int(num ** 0.5) + 1):\n",
    "        if num % i == 0:\n",
    "            return False\n",
    "    return True\n",
    "\n",
    "# Loop through the numbers from 1 to 100 and call the is_prime function\n",
    "prfint(\"Prime numbers from 1 to 100: \")"
   ]
  },
  {
   "cell_type": "markdown",
   "id": "8d3bc33d",
   "metadata": {},
   "source": [
    "have to clean up missing \":\" and typos"
   ]
  },
  {
   "cell_type": "code",
   "execution_count": 3,
   "id": "efb40f65",
   "metadata": {},
   "outputs": [
    {
     "name": "stdout",
     "output_type": "stream",
     "text": [
      "Prime numbers from 1 to 100: \n",
      "2 3 5 7 11 13 17 19 23 29 31 37 41 43 47 53 59 61 67 71 73 79 83 89 97 "
     ]
    }
   ],
   "source": [
    "# This function takes a number num as input and returns \n",
    "# True if the number is prime, and False otherwise\n",
    "def is_prime (num):\n",
    "    if num <= 1:\n",
    "        return False\n",
    "    for i in range(2, int(num ** 0.5) + 1):\n",
    "        if num % i == 0:\n",
    "            return False\n",
    "    return True\n",
    "\n",
    "# Loop through the numbers from 1 to 100 and call the is_prime function\n",
    "print(\"Prime numbers from 1 to 100: \")\n",
    "for num in range(1, 101):\n",
    "    if is_prime(num):\n",
    "        print(num, end=\" \")\n",
    "\n"
   ]
  },
  {
   "cell_type": "markdown",
   "id": "717863e0",
   "metadata": {},
   "source": [
    "## Automobile Costs\n"
   ]
  },
  {
   "cell_type": "markdown",
   "id": "b5eb1494",
   "metadata": {},
   "source": [
    "This program prompts the user to input the monthly costs for various automobile expenses, calculates the total monthly and annual costs, and then displays these totals."
   ]
  },
  {
   "cell_type": "code",
   "execution_count": 5,
   "id": "61995d45",
   "metadata": {},
   "outputs": [
    {
     "name": "stdout",
     "output_type": "stream",
     "text": [
      "Welcome! Please enter the following monthly costs.\n",
      "The total monthly cost is: 745.0\n",
      "The total annual cost is: 8940.0\n"
     ]
    }
   ],
   "source": [
    "# This function prompts the user to input the monthly costs for \n",
    "# different automobile expenses and returns the total monthly cost\n",
    "def get_monthly_costs():\n",
    "    loan_payment = float(input(\"Please enter the monthly loan payment: \"))\n",
    "    insurance = float(input(\"Please enter the monthly insurance cost: \"))\n",
    "    gas = float(input(\"Please enter the monthly gas cost: \"))\n",
    "    oil = float(input(\"Please enter the monthly oil cost: \"))\n",
    "    tires = float(input(\"Please enter the monthly tire cost: \"))\n",
    "    maintenance = float(input(\"Please enter the monthly maintenance cost: \"))\n",
    "    return loan_payment, insurance, gas, oil, tires, maintenance\n",
    "\n",
    "# This function takes the costs as input and calculates\n",
    "# the sum total of the total monthly cost\n",
    "def calculate_monthly_cost(loan_payment, insurance, gas, oil, tires, maintenance):\n",
    "    total_monthly_cost = loan_payment + insurance + gas + oil + tires + maintenance\n",
    "    return total_monthly_cost\n",
    "\n",
    "# This function calculates the annual cost by multiplying the monthly cost by 12\n",
    "def calculate_annual_cost(total_monthly_cost):\n",
    "    total_annual_cost = total_monthly_cost * 12\n",
    "    return total_annual_cost\n",
    "\n",
    "def main():\n",
    "    print(\"Welcome! Please enter the following monthly costs.\")\n",
    "    monthly_costs= get_monthly_costs()\n",
    "    total_monthly_cost = calculate_monthly_cost(*monthly_costs)\n",
    "    total_annual_cost = calculate_annual_cost(total_monthly_cost)\n",
    "    print(\"The total monthly cost is:\", total_monthly_cost)\n",
    "    print(\"The total annual cost is:\", total_annual_cost)\n",
    "\n",
    "main()"
   ]
  },
  {
   "cell_type": "code",
   "execution_count": null,
   "id": "93d114da",
   "metadata": {},
   "outputs": [],
   "source": []
  }
 ],
 "metadata": {
  "kernelspec": {
   "display_name": "Python 3",
   "language": "python",
   "name": "python3"
  },
  "language_info": {
   "codemirror_mode": {
    "name": "ipython",
    "version": 3
   },
   "file_extension": ".py",
   "mimetype": "text/x-python",
   "name": "python",
   "nbconvert_exporter": "python",
   "pygments_lexer": "ipython3",
   "version": "3.12.1"
  }
 },
 "nbformat": 4,
 "nbformat_minor": 5
}
