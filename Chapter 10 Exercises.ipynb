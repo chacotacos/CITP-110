{
 "cells": [
  {
   "cell_type": "markdown",
   "metadata": {},
   "source": [
    "# Chapter 10 Programming Exercises"
   ]
  },
  {
   "cell_type": "markdown",
   "metadata": {},
   "source": [
    "## Question 1 Pet Class"
   ]
  },
  {
   "cell_type": "markdown",
   "metadata": {},
   "source": [
    "This code imports the pet class from `pet.py`. The code then allows the user to input details about their pet, stores those details in a Pet object, and then displays the pet's details back to the user. \n",
    "\n",
    "I had some problems getting the module to work. So, I used chatgpt to help refine the code and it works now. My import and animal type functions kept throwing errors."
   ]
  },
  {
   "cell_type": "code",
   "execution_count": 3,
   "metadata": {},
   "outputs": [
    {
     "name": "stdout",
     "output_type": "stream",
     "text": [
      "\n",
      "Pet's Details\n",
      "Name:  Benny\n",
      "Type:  Dog\n",
      "Age:  12\n"
     ]
    }
   ],
   "source": [
    "# Import the Pet class from the pet module\n",
    "from pet import Pet\n",
    "\n",
    "# Program to prompt the user to enter pet details\n",
    "def main():\n",
    "    # Create an instance of the Pet class\n",
    "    my_pet = Pet()  # Renamed to 'my_pet' to avoid confusion\n",
    "\n",
    "    # Prompt the user to enter the pet's name\n",
    "    name = input(\"What is your pet's name? \")\n",
    "    my_pet.set_name(name)\n",
    "\n",
    "    # Prompt the user to enter the type of pet\n",
    "    animal_type = input(\"What kind of pet do you have? \")\n",
    "    my_pet.set_animal_type(animal_type)\n",
    "\n",
    "    # Prompt the user to enter the age of the pet\n",
    "    age = int(input(\"How old is your pet? \"))\n",
    "    my_pet.set_age(age)\n",
    "\n",
    "    # Retrieve and print the pet details\n",
    "    print(\"\\nPet's Details\")\n",
    "    print(\"Name: \", my_pet.get_name())\n",
    "    print(\"Type: \", my_pet.get_animal_type())\n",
    "    print(\"Age: \", my_pet.get_age())\n",
    "\n",
    "# Call the main function\n",
    "main()\n"
   ]
  },
  {
   "cell_type": "code",
   "execution_count": null,
   "metadata": {},
   "outputs": [],
   "source": []
  }
 ],
 "metadata": {
  "kernelspec": {
   "display_name": "Python 3",
   "language": "python",
   "name": "python3"
  },
  "language_info": {
   "codemirror_mode": {
    "name": "ipython",
    "version": 3
   },
   "file_extension": ".py",
   "mimetype": "text/x-python",
   "name": "python",
   "nbconvert_exporter": "python",
   "pygments_lexer": "ipython3",
   "version": "3.12.1"
  }
 },
 "nbformat": 4,
 "nbformat_minor": 2
}
