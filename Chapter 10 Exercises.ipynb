{
 "cells": [
  {
   "cell_type": "markdown",
   "metadata": {},
   "source": [
    "# Chapter 10 Programming Exercises"
   ]
  },
  {
   "cell_type": "markdown",
   "metadata": {},
   "source": [
    "## Question 1 Pet Class"
   ]
  },
  {
   "cell_type": "markdown",
   "metadata": {},
   "source": []
  },
  {
   "cell_type": "code",
   "execution_count": null,
   "metadata": {},
   "outputs": [],
   "source": [
    "import pet\n",
    "\n",
    "# program to prompt the user to enter pet details\n",
    "\n",
    "def main():\n",
    "    # create an instannce of the pet class\n",
    "    pet = Pet()\n",
    "\n",
    "    # Prompt the user to enter the pet's name\n",
    "    name = input(\"What is your pet's name? \")\n",
    "    pet.set_name(name)\n",
    "\n",
    "    # Prompt the user to enter the type of pet\n",
    "    type = input(\"What kind of pet do you have? \")\n",
    "    pet.set_type(type)\n",
    "\n",
    "    # Prompt the user to enter the age of the pet\n",
    "    age = int(input(\"How old is your pet? \"))\n",
    "    pet.set_age(age)\n",
    "    \n"
   ]
  }
 ],
 "metadata": {
  "language_info": {
   "name": "python"
  }
 },
 "nbformat": 4,
 "nbformat_minor": 2
}
