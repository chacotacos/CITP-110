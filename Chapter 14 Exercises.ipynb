{
 "cells": [
  {
   "cell_type": "markdown",
   "metadata": {},
   "source": [
    "# Chapter 14 Exercise\n",
    "### 1. Population Database\n"
   ]
  },
  {
   "cell_type": "code",
   "execution_count": null,
   "metadata": {},
   "outputs": [],
   "source": [
    "import sqlite3\n",
    "\n",
    "def display_sorted_cities(cursor, ascending=True):\n",
    "    \"\"\"Display all cities in the database sorted by population.\"\"\"\n",
    "    # Determine the sorting order based on the ascending paramter\n",
    "    order = \"ASC\" if ascending else \"DESC\"\n",
    "    # Execute SQL query to fetch cities sorted by population\n",
    "    cursor.execute(f\"SELECT * FROM cities ORDER BY population {order}\")\n",
    "    # Fetch all rows from the query result\n",
    "    cities = cursor.fetchall()\n",
    "    # Print the sorted cities\n",
    "    for city in cities:\n",
    "        print(city)\n",
    "\n",
    "def display_cities_sorted_by_name(cursor):\n",
    "    \"\"\"Display all cities in the database sorted by name.\"\"\"\n",
    "    # Execute SQL query to fetch cities sorted by name\n",
    "    cursor.execute(\"SELECT * FROM cities ORDER BY name\")\n",
    "    # Fetch all rows from the query result\n",
    "    cities = cursor.fetchall()\n",
    "    # Print the sorted cities\n",
    "    for city in cities:\n",
    "        print(city)\n",
    "\n",
    "def display_total_population(cursor):\n",
    "    \"\"\"Display the total population of all cities.\"\"\"\n",
    "    # Execute SQL query to calculate the total population \n",
    "    cursor.execute(\"SELECT SUM(population) FROM cities\")\n",
    "    # Fetch the result of the query\n",
    "    total_population = cursor.fetchone()[0]\n",
    "    # Print the total population\n",
    "    print(\"The total population of all cities is:\", total_population)\n",
    "\n",
    "def display_average_population(cursor):\n",
    "    \"\"\"Display the average population of all the cities.\"\"\"\n",
    "    # Execute SQL query to calculate the average population.\n",
    "    cursor.execute(\"SELECT AVG(population) FROM cities\")\n",
    "    # Fetch the result of the query\n",
    "    average_population = cursor.fetchone()[0]\n",
    "    # Print the average population\n",
    "    print(\"The average population of all cities is:\", average_population)\n",
    "\n",
    "def display_city_with_highest_population(cursor):\n",
    "    \"\"\"Display the city with the highest population.\"\"\"\n",
    "    # Execute SQL query to fetch the city with the highest population\n",
    "    cursor.execute(\"SELECT * FROM cities ORDER BY population DESC LIMIT 1\")\n",
    "    # Fetch the result of the query\n",
    "    city = cursor.fetchone()\n",
    "    # Print the city with the highest population\n",
    "    print(\"The city with the highest population is:\", city)\n",
    "\n",
    "def display_city_with_lowest_population(cursor):\n",
    "    \"\"\"Display the city with the lowest population.\"\"\"\n",
    "    # Execute SQL query to fetch the city with the lowest population\n",
    "    cursor.execute(\"SELECT * FROM cities ORDER BY population LIMIT 1\")\n",
    "    # Fetch the result of the query\n",
    "    city = cursor.fetchone()\n",
    "    # Print the city with the lowest population\n",
    "    print(\"The city with the lowest population is:\", city)    \n",
    "\n"
   ]
  }
 ],
 "metadata": {
  "language_info": {
   "name": "python"
  }
 },
 "nbformat": 4,
 "nbformat_minor": 2
}
