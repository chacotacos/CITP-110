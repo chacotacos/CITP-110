{
 "cells": [
  {
   "cell_type": "markdown",
   "id": "e534412b",
   "metadata": {},
   "source": [
    "# Chapter 1 Exercises:\n",
    "problems 1, 3, 5"
   ]
  },
  {
   "cell_type": "markdown",
   "id": "9705655f",
   "metadata": {},
   "source": [
    "## Problem 1 "
   ]
  },
  {
   "cell_type": "code",
   "execution_count": 1,
   "id": "d30694ed",
   "metadata": {},
   "outputs": [
    {
     "name": "stdout",
     "output_type": "stream",
     "text": [
      "This is a test of the Python interpreter\n"
     ]
    }
   ],
   "source": [
    "print('This is a test of the Python interpreter')"
   ]
  },
  {
   "cell_type": "markdown",
   "id": "4fef4e61",
   "metadata": {},
   "source": [
    "## Problem 3"
   ]
  },
  {
   "cell_type": "markdown",
   "id": "fa0d8d84",
   "metadata": {},
   "source": [
    "11 00001011\n",
    "65 01000001\n",
    "100 01100100\n",
    "255 11111111"
   ]
  },
  {
   "cell_type": "markdown",
   "id": "89d860f3",
   "metadata": {},
   "source": [
    "## Problem 5"
   ]
  },
  {
   "cell_type": "markdown",
   "id": "883271a0",
   "metadata": {},
   "source": [
    "J 74\n",
    "u 117\n",
    "s 115\n",
    "t 116\n",
    "i 105\n",
    "n 110"
   ]
  },
  {
   "cell_type": "code",
   "execution_count": null,
   "id": "1a29bdbd",
   "metadata": {},
   "outputs": [],
   "source": []
  }
 ],
 "metadata": {
  "kernelspec": {
   "display_name": "Python 3 (ipykernel)",
   "language": "python",
   "name": "python3"
  },
  "language_info": {
   "codemirror_mode": {
    "name": "ipython",
    "version": 3
   },
   "file_extension": ".py",
   "mimetype": "text/x-python",
   "name": "python",
   "nbconvert_exporter": "python",
   "pygments_lexer": "ipython3",
   "version": "3.11.5"
  }
 },
 "nbformat": 4,
 "nbformat_minor": 5
}
