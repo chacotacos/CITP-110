{
 "cells": [
  {
   "cell_type": "markdown",
   "metadata": {},
   "source": [
    "# Chapter 6 Exercises"
   ]
  },
  {
   "cell_type": "markdown",
   "metadata": {},
   "source": [
    "## Algorithm Workbench "
   ]
  },
  {
   "cell_type": "markdown",
   "metadata": {},
   "source": [
    "### Question 1 \n",
    "\n",
    "Write a program that opens an output file with the filename 'my_name.txt' , writes your name to the file, then closes the file.  \n",
    "\n",
    "I chose this and problem #2 as they used the same file and I thought that I could expand on the first file. "
   ]
  },
  {
   "cell_type": "code",
   "execution_count": 3,
   "metadata": {},
   "outputs": [],
   "source": [
    "# Write a program that opens a file named `my_name.txt` and writes a name to it.\n",
    "\n",
    "# ask for name\n",
    "name = input('What is your name? ')\n",
    "\n",
    "# write name to file\n",
    "with open('my_name.txt', 'w') as file:\n",
    "    file.write(name)"
   ]
  },
  {
   "cell_type": "markdown",
   "metadata": {},
   "source": [
    "### Question 2 \n",
    "Write a program that opens the `my_name.txt` file that was created by the program in problem 1, reads your name from the file, displays the name on the screen, then closes the file.\n",
    "\n",
    "\n",
    "This program queries the user for their name and writes it to the file `my_name.txt`. It will then display the contents of the file on screen."
   ]
  },
  {
   "cell_type": "code",
   "execution_count": 4,
   "metadata": {},
   "outputs": [
    {
     "name": "stdout",
     "output_type": "stream",
     "text": [
      "Justin Cole\n"
     ]
    }
   ],
   "source": [
    "# Write a program that opens a file named `my_name.txt` and writes a name to it.\n",
    "\n",
    "# ask for name\n",
    "name = input('What is your name? ')\n",
    "\n",
    "# write name to file\n",
    "with open('my_name.txt', 'w') as file:\n",
    "    file.write(name)\n",
    "\n",
    " # display the contents of `my_name.txt`\n",
    "with open('my_name.txt', 'r') as file:\n",
    "    print(file.read())\n",
    "       "
   ]
  },
  {
   "cell_type": "markdown",
   "metadata": {},
   "source": [
    "# Programming Exercises"
   ]
  },
  {
   "cell_type": "markdown",
   "metadata": {},
   "source": [
    "## Question 1 File Display\n",
    "Assume a file containing a series of integers is named `numbers.txt`  and exists on the computer’s disk. Write a program that displays all of the numbers in the file.\n",
    "\n",
    "\n",
    "This program will read each line from the numbers.txt file, split the line into individual numbers, convert them to integers, and then print each number."
   ]
  },
  {
   "cell_type": "code",
   "execution_count": 9,
   "metadata": {},
   "outputs": [
    {
     "name": "stdout",
     "output_type": "stream",
     "text": [
      "1\n",
      "2\n",
      "3\n",
      "4\n",
      "5\n",
      "6\n",
      "7\n",
      "8\n",
      "9\n",
      "10\n"
     ]
    }
   ],
   "source": [
    "# Open the file `numbers.txt` in read mode\n",
    "with open('numbers.txt', 'r') as file:\n",
    "    # read all lines from the file\n",
    "    lines = file.readlines()\n",
    "\n",
    "# Iterate through the lines\n",
    "for line in lines:\n",
    "    # convert the line to an integer\n",
    "    number = int(line)\n",
    "    # print the number\n",
    "    print(number)\n"
   ]
  },
  {
   "cell_type": "markdown",
   "metadata": {},
   "source": [
    "## Question 6. Average of Numbers\n",
    "Assume a file containing a series of integers is named `numbers.txt` and exists on the computer’s disk. Write a program that calculates the average of all the numbers stored in the file.\n",
    "\n",
    "This program reads each line from the numbers.txt file, splits the line into individual numbers, calculates the sum of all numbers, counts the total number of numbers, and then calculates the average. Finally, it prints the average"
   ]
  },
  {
   "cell_type": "code",
   "execution_count": null,
   "metadata": {},
   "outputs": [],
   "source": [
    "# Open the file `numbers.txt` in read mode\n",
    "with open('numbers.txt', 'r') as file:\n",
    "    # read all lines from the file\n",
    "    lines = file.readlines()"
   ]
  }
 ],
 "metadata": {
  "kernelspec": {
   "display_name": "Python 3",
   "language": "python",
   "name": "python3"
  },
  "language_info": {
   "codemirror_mode": {
    "name": "ipython",
    "version": 3
   },
   "file_extension": ".py",
   "mimetype": "text/x-python",
   "name": "python",
   "nbconvert_exporter": "python",
   "pygments_lexer": "ipython3",
   "version": "3.12.1"
  }
 },
 "nbformat": 4,
 "nbformat_minor": 2
}
