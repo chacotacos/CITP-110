{
 "cells": [
  {
   "cell_type": "markdown",
   "metadata": {},
   "source": [
    "# Chapter 6 Exercises"
   ]
  },
  {
   "cell_type": "markdown",
   "metadata": {},
   "source": [
    "## Algorithm Workbench "
   ]
  },
  {
   "cell_type": "markdown",
   "metadata": {},
   "source": [
    "### Question 1 \n",
    "\n",
    "Write a program that opens an output file with the filename 'my_name.txt' , writes your name to the file, then closes the file.  \n",
    "\n",
    "I chose this and problem #2 as they used the same file and I thought that I could expand on the first file. "
   ]
  },
  {
   "cell_type": "code",
   "execution_count": null,
   "metadata": {},
   "outputs": [],
   "source": [
    "# Write a program that opens a file named `my_name.txt` and writes a name to it.\n",
    "\n",
    "# ask for name\n",
    "name = input('What is your name? ')\n",
    "\n",
    "# write name to file\n",
    "with open('my_name.txt', 'w') as file:\n",
    "    file.write(name)"
   ]
  },
  {
   "cell_type": "markdown",
   "metadata": {},
   "source": [
    "### Question 2 \n",
    "Write a program that opens the `my_name.txt` file that was created by the program in problem 1, reads your name from the file, displays the name on the screen, then closes the file.\n",
    "\n",
    "\n",
    "This program queries the user for their name and writes it to the file `my_name.txt`. It will then display the contents of the file on screen."
   ]
  },
  {
   "cell_type": "code",
   "execution_count": null,
   "metadata": {},
   "outputs": [],
   "source": [
    "# Write a program that opens a file named `my_name.txt` and writes a name to it.\n",
    "\n",
    "# ask for name\n",
    "name = input('What is your name? ')\n",
    "\n",
    "# write name to file\n",
    "with open('my_name.txt', 'w') as file:\n",
    "    file.write(name)\n",
    "\n",
    " # display the contents of `my_name.txt`\n",
    "with open('my_name.txt', 'r') as file:\n",
    "    print(file.read())\n",
    "       "
   ]
  },
  {
   "cell_type": "markdown",
   "metadata": {},
   "source": [
    "# Programming Exercises"
   ]
  },
  {
   "cell_type": "markdown",
   "metadata": {},
   "source": [
    "## Question 1 File Display\n",
    "Assume a file containing a series of integers is named `numbers.txt`  and exists on the computer’s disk. Write a program that displays all of the numbers in the file.\n",
    "\n",
    "\n",
    "This program will read each line from the numbers.txt file, split the line into individual numbers, convert them to integers, and then print each number."
   ]
  },
  {
   "cell_type": "code",
   "execution_count": null,
   "metadata": {},
   "outputs": [],
   "source": [
    "# Open the file `numbers.txt` in read mode\n",
    "with open('numbers.txt', 'r') as file:\n",
    "    # read all lines from the file\n",
    "    lines = file.readlines()\n",
    "\n",
    "# Iterate through the lines\n",
    "for line in lines:\n",
    "    # convert the line to an integer\n",
    "    number = int(line)\n",
    "    # print the number\n",
    "    print(number)\n"
   ]
  },
  {
   "cell_type": "markdown",
   "metadata": {},
   "source": [
    "## Question 6. Average of Numbers\n",
    "Assume a file containing a series of integers is named `numbers.txt` and exists on the computer’s disk. Write a program that calculates the average of all the numbers stored in the file.\n",
    "\n",
    "This program reads each line from the numbers.txt file, splits the line into individual numbers, calculates the sum of all numbers, counts the total number of numbers, and then calculates the average. Finally, it prints the average"
   ]
  },
  {
   "cell_type": "code",
   "execution_count": null,
   "metadata": {},
   "outputs": [],
   "source": [
    "# Open the file `numbers.txt` in read mode\n",
    "with open('numbers.txt', 'r') as file:\n",
    "    # read all lines from the file\n",
    "    lines = file.readlines()\n",
    "\n",
    "# Convert each line to an integer and store in a list\n",
    "numbers = [int(line) for line in lines]\n",
    "\n",
    "# Calculate the sum of the numbers\n",
    "total = sum(numbers)\n",
    "\n",
    "# Calculate the average of the numbers\n",
    "average = total / len(numbers)\n",
    "\n",
    "# Display the sum and average\n",
    "print(f'The sum of the numbers is {total}')\n",
    "print(f'The average of the numbers is {average}')"
   ]
  },
  {
   "cell_type": "markdown",
   "metadata": {},
   "source": [
    "## Question 9 Exception Handing\n",
    "\n",
    "This one is harder than it looks. I'm not sure if I got it right. I just know I got it to where it is no longer throwing errors. "
   ]
  },
  {
   "cell_type": "code",
   "execution_count": null,
   "metadata": {},
   "outputs": [],
   "source": [
    "# Open the file `numbers.txt` in read mode\n",
    "try:\n",
    "    with open('numbers.txt', 'r') as file:\n",
    "        # read all lines from the file\n",
    "        lines = file.readlines()\n",
    "\n",
    "    # Convert each line to an integer and store in a list\n",
    "    numbers = [int(line) for line in lines]\n",
    "\n",
    "    # Calculate the sum of the numbers\n",
    "    total = sum(numbers)\n",
    "\n",
    "    # Calculate the average of the numbers\n",
    "    average = total / len(numbers)\n",
    "\n",
    "    # Display the sum and average\n",
    "    print(f'The sum of the numbers is {total}')\n",
    "    print(f'The average of the numbers is {average}')\n",
    "\n",
    "except (IOError, FileNotFoundError):\n",
    "    print(\"Error: Unable to open or read the file.\")\n"
   ]
  },
  {
   "cell_type": "markdown",
   "metadata": {},
   "source": [
    "## Question 7 Random Number File Writer\n",
    "Write a program that writes a series of random numbers to a file. Each random number should be in the range of 1 through 500. The application should let the user specify how many random numbers the file will hold."
   ]
  },
  {
   "cell_type": "markdown",
   "metadata": {},
   "source": [
    "I had to use ChatGPT to figure this one out. I had no idea that I would need to import a random number library. It's interesting learning how programs I've been using for decades operate, opening, closing, reading, and writing to files behind the scenes. "
   ]
  },
  {
   "cell_type": "code",
   "execution_count": null,
   "metadata": {},
   "outputs": [],
   "source": [
    "# import the random number library to generate random numbers\n",
    "import random\n",
    "\n",
    "# Define a function to write random numbers to a file\n",
    "def write_random_numbers(filename, count):\n",
    "    try:\n",
    "        # Open the file in write mode\n",
    "        # use a 'with' statement to ensure the file is closed after writing\n",
    "        with open(filename, 'w') as file:\n",
    "         # Loop 'count' times to generate and write random numbers\n",
    "            for _ in range(count):\n",
    "                # Generate a random number between 1 and 500\n",
    "                random_number = random.randint(1, 500)\n",
    "                # Write the number to the file and add a newling character\n",
    "                file.write(f'{random_number}\\n') \n",
    "    # Print a success message if writing to the file was successful\n",
    "        print(f\"Successfully wrote {count} random numbers to '{filename}'.\")\n",
    "    except IOError:\n",
    "        # Handle IOError exceptions if there's an issue writing to the file\n",
    "        print(\"Error: Unable to write to the file.\")\n",
    "\n",
    "\n",
    "# Define the main function to interact with the user and run the program\n",
    "def main():\n",
    "    try:\n",
    "        # Prompt the user to enter a filename and the number of random numbers to generate\n",
    "        filename = input(\"Enter a filename to write random numbers to: \")\n",
    "        count = int(input(\"How many random numbers do you want to generate? \"))\n",
    "\n",
    "        # Call the function to write random numbers to the file\n",
    "        write_random_numbers(filename, count)\n",
    "\n",
    "    # Handle ValueError exceptions if the user enters invalid input\n",
    "    except ValueError:\n",
    "        print(\"Error: Please enter a valid number.\")\n",
    "\n",
    "# Call the main function to run the program\n",
    "main()\n",
    "        "
   ]
  }
 ],
 "metadata": {
  "kernelspec": {
   "display_name": "Python 3",
   "language": "python",
   "name": "python3"
  },
  "language_info": {
   "codemirror_mode": {
    "name": "ipython",
    "version": 3
   },
   "file_extension": ".py",
   "mimetype": "text/x-python",
   "name": "python",
   "nbconvert_exporter": "python",
   "pygments_lexer": "ipython3",
   "version": "3.12.1"
  }
 },
 "nbformat": 4,
 "nbformat_minor": 2
}
