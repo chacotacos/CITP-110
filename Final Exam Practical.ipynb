{
 "cells": [
  {
   "cell_type": "markdown",
   "metadata": {},
   "source": [
    "# FINAL EXAM TIME"
   ]
  },
  {
   "cell_type": "markdown",
   "metadata": {},
   "source": [
    "### Hello little people of Earth!"
   ]
  },
  {
   "cell_type": "code",
   "execution_count": 2,
   "metadata": {},
   "outputs": [
    {
     "name": "stdout",
     "output_type": "stream",
     "text": [
      "Hello, little people of Eaarth!ooooooooooooooooooooooooooooooooooooooooooooooooooooooooooooooooooooooooo\n"
     ]
    }
   ],
   "source": [
    "# Define the string\n",
    "greeting = \"  Hello, little people of Eaarth!  \"\n",
    "\n",
    "# Step 1: Determine the length of the string\n",
    "length = len(greeting)\n",
    "\n",
    "# Step 2: Determine if the string is divisible by 3\n",
    "divisible_by_3 = length % 3 == 0\n",
    "\n",
    "# Step 3: create and store a new version of the string without leading or trailing spaces\n",
    "new_greeting = greeting.strip()\n",
    "\n",
    "# Step 4: store the first 5 characters of the stripped string in a new variable\n",
    "first_5_characters = new_greeting[:5]\n",
    "\n",
    "# Step 5 Append 73 \"o\" to the string and print out the results\n",
    "new_greeting += \"o\" * 73\n",
    "print(new_greeting)\n",
    "\n",
    "\n"
   ]
  },
  {
   "cell_type": "code",
   "execution_count": null,
   "metadata": {},
   "outputs": [],
   "source": []
  }
 ],
 "metadata": {
  "kernelspec": {
   "display_name": "Python 3",
   "language": "python",
   "name": "python3"
  },
  "language_info": {
   "codemirror_mode": {
    "name": "ipython",
    "version": 3
   },
   "file_extension": ".py",
   "mimetype": "text/x-python",
   "name": "python",
   "nbconvert_exporter": "python",
   "pygments_lexer": "ipython3",
   "version": "3.12.1"
  }
 },
 "nbformat": 4,
 "nbformat_minor": 2
}
